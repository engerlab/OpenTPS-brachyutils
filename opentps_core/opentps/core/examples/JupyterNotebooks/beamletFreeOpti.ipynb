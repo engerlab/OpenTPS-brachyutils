{
 "cells": [
  {
   "cell_type": "markdown",
   "metadata": {},
   "source": [
    "# Beamlet free optimization\n",
    "\n",
    "This example will present the basis of beamlet optimization with the OpenTPS core."
   ]
  },
  {
   "cell_type": "code",
   "execution_count": 1,
   "metadata": {
    "ExecuteTime": {
     "end_time": "2023-07-19T13:52:51.668851600Z",
     "start_time": "2023-07-19T13:52:50.414005400Z"
    }
   },
   "outputs": [
    {
     "name": "stdout",
     "output_type": "stream",
     "text": [
      "02/08/2023 02:04:53 PM - root - INFO - Loading logging configuration: C:\\Users\\romai\\AppData\\Roaming\\Python\\Python39\\site-packages\\opentps\\core\\config\\logger\\logging_config.json\n",
      "02/08/2023 02:04:53 PM - opentps.core._loggingConfig - INFO - Log level set: INFO\n",
      "02/08/2023 02:04:54 PM - opentps.core.processing.imageProcessing.cupyImageProcessing - WARNING - Cannot import Cupy module\n",
      "02/08/2023 02:04:55 PM - opentps.core.processing.registration.registrationMorphons - WARNING - cupy not found.\n",
      "02/08/2023 02:04:55 PM - opentps.core.processing.C_libraries.libInterp3_wrapper - WARNING - cupy not found.\n"
     ]
    }
   ],
   "source": [
    "#imports \n",
    "\n",
    "import numpy as np\n",
    "import os\n",
    "\n",
    "from matplotlib import pyplot as plt\n",
    "\n",
    "from opentps.core.data.images import CTImage\n",
    "from opentps.core.data.images import ROIMask\n",
    "from opentps.core.data.plan import ObjectivesList\n",
    "from opentps.core.data.plan import PlanDesign\n",
    "from opentps.core.data import DVH\n",
    "from opentps.core.data import Patient\n",
    "from opentps.core.data.plan import FidObjective\n",
    "from opentps.core.io import mcsquareIO\n",
    "from opentps.core.io.scannerReader import readScanner\n",
    "from opentps.core.processing.doseCalculation.doseCalculationConfig import DoseCalculationConfig\n",
    "from opentps.core.processing.doseCalculation.mcsquareDoseCalculator import MCsquareDoseCalculator\n",
    "from opentps.core.processing.imageProcessing.resampler3D import resampleImage3DOnImage3D"
   ]
  },
  {
   "cell_type": "markdown",
   "metadata": {
    "collapsed": false
   },
   "source": [
    "## Generic CT creation\n",
    "\n",
    "We will first create a generic CT of a box filled with water and air"
   ]
  },
  {
   "cell_type": "code",
   "execution_count": 2,
   "metadata": {
    "ExecuteTime": {
     "end_time": "2023-07-19T13:53:12.850584800Z",
     "start_time": "2023-07-19T13:52:59.213025Z"
    },
    "collapsed": false
   },
   "outputs": [],
   "source": [
    "#calibratioin of the CT\n",
    "ctCalibration = readScanner(DoseCalculationConfig().scannerFolder)\n",
    "bdl = mcsquareIO.readBDL(DoseCalculationConfig().bdlFile)\n",
    "\n",
    "#creation of the patient object\n",
    "patient = Patient()\n",
    "patient.name = 'Patient'\n",
    "\n",
    "#size of the 3D box\n",
    "ctSize = 150\n",
    "\n",
    "#creation of the CTImage object\n",
    "ct = CTImage()\n",
    "ct.name = 'CT'\n",
    "ct.patient = patient\n",
    "\n",
    "huAir = -1024. #Hounsfield unit of water\n",
    "huWater = ctCalibration.convertRSP2HU(1.) #convert a stopping power of 1. to HU units\n",
    "data = huAir * np.ones((ctSize, ctSize, ctSize))\n",
    "data[:, 50:, :] = huWater\n",
    "ct.imageArray = data #the CT generic image is created"
   ]
  },
  {
   "cell_type": "markdown",
   "metadata": {
    "collapsed": false
   },
   "source": [
    "## Region of interest\n",
    "\n",
    "We will now create a region of interest wich is a small 3D box of size 20\\*20\\*20"
   ]
  },
  {
   "cell_type": "code",
   "execution_count": 3,
   "metadata": {
    "ExecuteTime": {
     "end_time": "2023-07-19T13:53:19.906921900Z",
     "start_time": "2023-07-19T13:53:19.852207100Z"
    },
    "collapsed": false
   },
   "outputs": [],
   "source": [
    "roi = ROIMask()\n",
    "roi.patient = patient\n",
    "roi.name = 'TV'\n",
    "roi.color = (255, 0, 0) # red\n",
    "data = np.zeros((ctSize, ctSize, ctSize)).astype(bool)\n",
    "data[100:120, 100:120, 100:120] = True\n",
    "roi.imageArray = data"
   ]
  },
  {
   "cell_type": "code",
   "execution_count": 4,
   "metadata": {
    "ExecuteTime": {
     "end_time": "2023-07-19T13:53:22.128013500Z",
     "start_time": "2023-07-19T13:53:21.689926400Z"
    },
    "collapsed": false
   },
   "outputs": [],
   "source": [
    "#Output path\n",
    "output_path = 'Output'\n",
    "if not os.path.exists(output_path):\n",
    "    os.makedirs(output_path)\n",
    "\n",
    "image = plt.imshow(ct.imageArray[110,:,:],cmap='Blues')\n",
    "plt.colorbar(image)\n",
    "plt.contour(roi.imageArray[110,:,:],colors=\"red\")\n",
    "plt.title(\"Created CT with ROI\")\n",
    "plt.text(5,40,\"Air\",color= 'black')\n",
    "plt.text(5,100,\"Water\",color = 'white')\n",
    "plt.text(106,111,\"TV\",color ='red')\n",
    "plt.savefig(os.path.join(output_path,'beamFree1.png'),format = 'png')\n",
    "plt.show()\n",
    "plt.close()"
   ]
  },
  {
   "cell_type": "markdown",
   "metadata": {},
   "source": [
    "![png](\\assets\\img_notebooks\\beamFree1.png)"
   ]
  },
  {
   "cell_type": "markdown",
   "metadata": {
    "collapsed": false
   },
   "source": [
    "## Configuration of MCsquare\n",
    "\n",
    "To configure the MCsquare calculator we need to calibrate it with the CT calibration obtained above"
   ]
  },
  {
   "cell_type": "code",
   "execution_count": 5,
   "metadata": {
    "ExecuteTime": {
     "end_time": "2023-07-19T13:53:24.635054100Z",
     "start_time": "2023-07-19T13:53:24.624972600Z"
    },
    "collapsed": false
   },
   "outputs": [],
   "source": [
    "mc2 = MCsquareDoseCalculator()\n",
    "mc2.beamModel = bdl\n",
    "mc2.ctCalibration = ctCalibration\n",
    "mc2.nbPrimaries = 1e7"
   ]
  },
  {
   "cell_type": "markdown",
   "metadata": {
    "collapsed": false
   },
   "source": [
    "## Plan creation and design\n",
    "\n",
    "We will now create a plan and set objectives for the optimization and set a goal of 20 Gy to the target"
   ]
  },
  {
   "cell_type": "code",
   "execution_count": 6,
   "metadata": {
    "ExecuteTime": {
     "end_time": "2023-07-19T13:53:31.649902900Z",
     "start_time": "2023-07-19T13:53:29.453031400Z"
    },
    "collapsed": false
   },
   "outputs": [
    {
     "name": "stdout",
     "output_type": "stream",
     "text": [
      "02/08/2023 02:05:10 PM - opentps.core.data.plan._planDesign - INFO - Building plan ...\n",
      "02/08/2023 02:05:11 PM - opentps.core.processing.planOptimization.planInitializer - INFO - Target is dilated using a margin of 5.0 mm. This process might take some time.\n",
      "02/08/2023 02:05:11 PM - opentps.core.processing.imageProcessing.roiMasksProcessing - INFO - Using SITK to dilate mask.\n",
      "02/08/2023 02:05:16 PM - opentps.core.data.plan._planDesign - INFO - New plan created in 5.482358455657959 sec\n",
      "02/08/2023 02:05:16 PM - opentps.core.data.plan._planDesign - INFO - Number of spots: 317\n"
     ]
    }
   ],
   "source": [
    "# Design plan\n",
    "beamNames = [\"Beam1\"]\n",
    "gantryAngles = [0.]\n",
    "couchAngles = [0.]\n",
    "\n",
    "# Generate new plan\n",
    "planDesign = PlanDesign() #create a new plan\n",
    "planDesign.ct = ct\n",
    "planDesign.targetMask = roi\n",
    "planDesign.gantryAngles = gantryAngles\n",
    "planDesign.beamNames = beamNames\n",
    "planDesign.couchAngles = couchAngles\n",
    "planDesign.calibration = ctCalibration\n",
    "planDesign.spotSpacing = 5.0\n",
    "planDesign.layerSpacing = 5.0\n",
    "planDesign.targetMargin = 5.0\n",
    "\n",
    "plan = planDesign.buildPlan()  # Spot placement\n",
    "plan.PlanName = \"NewPlan\"\n",
    "\n",
    "\n",
    "plan.planDesign.objectives = ObjectivesList() #create a new objective set\n",
    "plan.planDesign.objectives.setTarget(roi.name, 20.0) #setting a target of 20 Gy for the target\n",
    "plan.planDesign.objectives.fidObjList = []\n",
    "plan.planDesign.objectives.addFidObjective(roi, FidObjective.Metrics.DMAX, 20.0, 1.0)\n",
    "plan.planDesign.objectives.addFidObjective(roi, FidObjective.Metrics.DMIN, 20.0, 1.0)\n",
    "plan.planDesign.defineTargetMaskAndPrescription()"
   ]
  },
  {
   "cell_type": "markdown",
   "metadata": {
    "collapsed": false
   },
   "source": [
    "## MCsquare beamlet free planOptimization\n",
    "\n",
    "Now that we have every needed object defined we can compute the optimization through MCsquare.\n",
    "/!\\ It may take some time to compute"
   ]
  },
  {
   "cell_type": "code",
   "execution_count": 7,
   "metadata": {
    "ExecuteTime": {
     "end_time": "2023-07-19T13:55:09.342969800Z",
     "start_time": "2023-07-19T13:53:47.816886600Z"
    },
    "collapsed": false
   },
   "outputs": [
    {
     "name": "stdout",
     "output_type": "stream",
     "text": [
      "02/08/2023 02:05:16 PM - opentps.core.io.mhdIO - INFO - Write MHD file: C:\\Users\\romai\\openTPS_workspace\\Simulations\\MCsquare_simulation\\CT.mhd\n"
     ]
    },
    {
     "name": "stdout",
     "output_type": "stream",
     "text": [
      "02/08/2023 02:05:16 PM - opentps.core.io.mcsquareIO - INFO - Write plan: C:\\Users\\romai\\openTPS_workspace\\Simulations\\MCsquare_simulation\\PlanPencil.txt\n",
      "02/08/2023 02:05:17 PM - opentps.core.io.mcsquareIO - INFO - Write plan objectives: C:\\Users\\romai\\openTPS_workspace\\Simulations\\MCsquare_simulation\\PlanObjectives.txt\n",
      "02/08/2023 02:05:17 PM - opentps.core.io.mhdIO - INFO - Write MHD file: C:\\Users\\romai\\openTPS_workspace\\Simulations\\MCsquare_simulation\\structs\\TV.mhd\n",
      "02/08/2023 02:05:17 PM - opentps.core.processing.doseCalculation.mcsquareDoseCalculator - INFO - Start MCsquare simulation\n"
     ]
    }
   ],
   "source": [
    "doseImage = mc2.optimizeBeamletFree(ct, plan, [roi])"
   ]
  },
  {
   "cell_type": "markdown",
   "metadata": {
    "collapsed": false
   },
   "source": [
    "## Dose volume histogram"
   ]
  },
  {
   "cell_type": "code",
   "execution_count": 8,
   "metadata": {
    "ExecuteTime": {
     "end_time": "2023-07-19T13:55:15.872074500Z",
     "start_time": "2023-07-19T13:55:15.767731100Z"
    },
    "collapsed": false
   },
   "outputs": [
    {
     "name": "stdout",
     "output_type": "stream",
     "text": [
      "D95 = 17.891438802083336 Gy\n",
      "D5 = 21.97541267641129 Gy\n",
      "D5 - D95 =  4.083973874327953 Gy\n"
     ]
    }
   ],
   "source": [
    "target_DVH = DVH(roi, doseImage)\n",
    "print('D95 = ' + str(target_DVH.D95) + ' Gy')\n",
    "print('D5 = ' + str(target_DVH.D5) + ' Gy')\n",
    "print('D5 - D95 =  {} Gy'.format(target_DVH.D5 - target_DVH.D95))"
   ]
  },
  {
   "cell_type": "markdown",
   "metadata": {
    "collapsed": false
   },
   "source": [
    "## Center of mass\n",
    "\n",
    "Here we look at the part of the 3D CT image where \"stuff is happening\" by getting the CoM. We use the function resampleImage3DOnImage3D to the same array size for both images."
   ]
  },
  {
   "cell_type": "code",
   "execution_count": 9,
   "metadata": {
    "ExecuteTime": {
     "end_time": "2023-07-19T13:55:22.353962300Z",
     "start_time": "2023-07-19T13:55:22.055830200Z"
    },
    "collapsed": false
   },
   "outputs": [
    {
     "name": "stdout",
     "output_type": "stream",
     "text": [
      "02/08/2023 02:09:37 PM - opentps.core.processing.imageProcessing.roiMasksProcessing - INFO - Using SITK to dilate mask.\n"
     ]
    }
   ],
   "source": [
    "roi = resampleImage3DOnImage3D(roi, ct)\n",
    "COM_coord = roi.centerOfMass\n",
    "COM_index = roi.getVoxelIndexFromPosition(COM_coord)\n",
    "Z_coord = COM_index[2]\n",
    "\n",
    "img_ct = ct.imageArray[:, :, Z_coord].transpose(1, 0)\n",
    "contourTargetMask = roi.getBinaryContourMask()\n",
    "img_mask = contourTargetMask.imageArray[:, :, Z_coord].transpose(1, 0)\n",
    "img_dose = resampleImage3DOnImage3D(doseImage, ct)\n",
    "img_dose = img_dose.imageArray[:, :, Z_coord].transpose(1, 0)"
   ]
  },
  {
   "cell_type": "markdown",
   "metadata": {
    "collapsed": false
   },
   "source": [
    "## Plot of the dose"
   ]
  },
  {
   "cell_type": "code",
   "execution_count": 10,
   "metadata": {
    "ExecuteTime": {
     "end_time": "2023-07-19T13:55:29.730708800Z",
     "start_time": "2023-07-19T13:55:29.023657500Z"
    },
    "collapsed": false
   },
   "outputs": [
    {
     "name": "stdout",
     "output_type": "stream",
     "text": [
      "D95 = 17.891438802083336 Gy\n",
      "D5 = 21.97541267641129 Gy\n",
      "D5 - D95 =  4.083973874327953 Gy\n"
     ]
    }
   ],
   "source": [
    "fig, ax = plt.subplots(1, 2, figsize=(12, 5))\n",
    "ax[0].axes.get_xaxis().set_visible(False)\n",
    "ax[0].axes.get_yaxis().set_visible(False)\n",
    "ax[0].imshow(img_ct, cmap='gray')\n",
    "ax[0].imshow(img_mask, alpha=.2, cmap='binary')  # PTV\n",
    "dose = ax[0].imshow(img_dose, cmap='jet', alpha=.2)\n",
    "plt.colorbar(dose, ax=ax[0])\n",
    "ax[1].plot(target_DVH.histogram[0], target_DVH.histogram[1], label=target_DVH.name)\n",
    "ax[1].set_xlabel(\"Dose (Gy)\")\n",
    "ax[1].set_ylabel(\"Volume (%)\")\n",
    "ax[0].set_title(\"Computed dose\")\n",
    "ax[1].set_title(\"DVH\")\n",
    "plt.grid(True)\n",
    "plt.legend()\n",
    "plt.savefig(os.path.join(output_path,'beamFree2.png'),format = 'png')\n",
    "plt.show()\n",
    "plt.close()\n",
    "\n",
    "print('D95 = ' + str(target_DVH.D95) + ' Gy')\n",
    "print('D5 = ' + str(target_DVH.D5) + ' Gy')\n",
    "print('D5 - D95 =  {} Gy'.format(target_DVH.D5 - target_DVH.D95))"
   ]
  },
  {
   "cell_type": "markdown",
   "metadata": {},
   "source": [
    "![png](\\assets\\img_notebooks\\beamFree2.png)"
   ]
  }
 ],
 "metadata": {
  "kernelspec": {
   "display_name": "OpenTPS",
   "language": "python",
   "name": "python3"
  },
  "language_info": {
   "codemirror_mode": {
    "name": "ipython",
    "version": 3
   },
   "file_extension": ".py",
   "mimetype": "text/x-python",
   "name": "python",
   "nbconvert_exporter": "python",
   "pygments_lexer": "ipython3",
   "version": "3.9.17"
  },
  "orig_nbformat": 4
 },
 "nbformat": 4,
 "nbformat_minor": 2
}
