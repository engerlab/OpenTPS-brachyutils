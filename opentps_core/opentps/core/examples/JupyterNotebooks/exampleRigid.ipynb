{
 "cells": [
  {
   "cell_type": "markdown",
   "metadata": {},
   "source": [
    "# Rigid registration"
   ]
  },
  {
   "cell_type": "code",
   "execution_count": 1,
   "metadata": {},
   "outputs": [
    {
     "name": "stdout",
     "output_type": "stream",
     "text": [
      "15/07/2024 03:33:09 PM - root - INFO - Loading logging configuration: C:\\Users\\cgaban\\opentps\\opentps_core\\opentps\\core\\config\\logger\\logging_config.json\n",
      "15/07/2024 03:33:09 PM - opentps.core._loggingConfig - INFO - Log level set: INFO\n",
      "15/07/2024 03:33:11 PM - opentps.core.processing.imageProcessing.cupyImageProcessing - WARNING - Cannot import Cupy module\n",
      "15/07/2024 03:33:13 PM - opentps.core.processing.registration.registrationMorphons - WARNING - cupy not found.\n",
      "15/07/2024 03:33:13 PM - opentps.core.processing.registration.morphonsCupy - WARNING - cupy not found.\n",
      "15/07/2024 03:33:13 PM - opentps.core.processing.C_libraries.libInterp3_wrapper - WARNING - cupy not found.\n"
     ]
    }
   ],
   "source": [
    "import copy\n",
    "import os\n",
    "import numpy as np\n",
    "import matplotlib.pyplot as plt\n",
    "import time\n",
    "import logging\n",
    "\n",
    "from opentps.core.processing.registration.registrationRigid import RegistrationRigid\n",
    "from opentps.core.examples.syntheticData import *\n",
    "from opentps.core.processing.imageProcessing.resampler3D import resampleImage3DOnImage3D\n",
    "from opentps.core.processing.imageProcessing.imageTransform3D import rotateData, translateData\n"
   ]
  },
  {
   "cell_type": "markdown",
   "metadata": {},
   "source": [
    "### Generate synthetic images"
   ]
  },
  {
   "cell_type": "code",
   "execution_count": 3,
   "metadata": {},
   "outputs": [
    {
     "ename": "AttributeError",
     "evalue": "module 'numpy' has no attribute 'float'.\n`np.float` was a deprecated alias for the builtin `float`. To avoid this error in existing code, use `float` by itself. Doing this will not modify any behavior and is safe. If you specifically wanted the numpy scalar type, use `np.float64` here.\nThe aliases was originally deprecated in NumPy 1.20; for more details and guidance see the original release note at:\n    https://numpy.org/devdocs/release/1.20.0-notes.html#deprecations",
     "output_type": "error",
     "traceback": [
      "\u001b[1;31m---------------------------------------------------------------------------\u001b[0m",
      "\u001b[1;31mAttributeError\u001b[0m                            Traceback (most recent call last)",
      "Cell \u001b[1;32mIn[3], line 7\u001b[0m\n\u001b[0;32m      4\u001b[0m translation \u001b[38;5;241m=\u001b[39m np\u001b[38;5;241m.\u001b[39marray([\u001b[38;5;241m15\u001b[39m, \u001b[38;5;241m0\u001b[39m, \u001b[38;5;241m10\u001b[39m])\n\u001b[0;32m      5\u001b[0m rotation \u001b[38;5;241m=\u001b[39m np\u001b[38;5;241m.\u001b[39marray([\u001b[38;5;241m0\u001b[39m, \u001b[38;5;241m5\u001b[39m, \u001b[38;5;241m0\u001b[39m])\n\u001b[1;32m----> 7\u001b[0m \u001b[43mtranslateData\u001b[49m\u001b[43m(\u001b[49m\u001b[43mmoving\u001b[49m\u001b[43m,\u001b[49m\u001b[43m \u001b[49m\u001b[43mtranslation\u001b[49m\u001b[43m,\u001b[49m\u001b[43m \u001b[49m\u001b[43moutputBox\u001b[49m\u001b[38;5;241;43m=\u001b[39;49m\u001b[38;5;124;43m'\u001b[39;49m\u001b[38;5;124;43msame\u001b[39;49m\u001b[38;5;124;43m'\u001b[39;49m\u001b[43m)\u001b[49m\n\u001b[0;32m      8\u001b[0m rotateData(moving, rotation, outputBox\u001b[38;5;241m=\u001b[39m\u001b[38;5;124m'\u001b[39m\u001b[38;5;124msame\u001b[39m\u001b[38;5;124m'\u001b[39m)\n",
      "File \u001b[1;32m~\\opentps\\opentps_core\\opentps\\core\\processing\\imageProcessing\\imageTransform3D.py:558\u001b[0m, in \u001b[0;36mtranslateData\u001b[1;34m(data, translationInMM, outputBox, fillValue, tryGPU, interpOrder, mode)\u001b[0m\n\u001b[0;32m    556\u001b[0m     cupyImageProcessing\u001b[38;5;241m.\u001b[39mtranslateData(data, translationInMM\u001b[38;5;241m=\u001b[39mtranslationInMM, fillValue\u001b[38;5;241m=\u001b[39mfillValue, outputBox\u001b[38;5;241m=\u001b[39moutputBox, interpOrder\u001b[38;5;241m=\u001b[39minterpOrder, mode\u001b[38;5;241m=\u001b[39mmode)\n\u001b[0;32m    557\u001b[0m \u001b[38;5;28;01melse\u001b[39;00m:\n\u001b[1;32m--> 558\u001b[0m     \u001b[43msitkImageProcessing\u001b[49m\u001b[38;5;241;43m.\u001b[39;49m\u001b[43mtranslateData\u001b[49m\u001b[43m(\u001b[49m\u001b[43mdata\u001b[49m\u001b[43m,\u001b[49m\u001b[43m \u001b[49m\u001b[43mtranslationInMM\u001b[49m\u001b[38;5;241;43m=\u001b[39;49m\u001b[43mtranslationInMM\u001b[49m\u001b[43m,\u001b[49m\u001b[43m \u001b[49m\u001b[43mfillValue\u001b[49m\u001b[38;5;241;43m=\u001b[39;49m\u001b[43mfillValue\u001b[49m\u001b[43m,\u001b[49m\u001b[43m \u001b[49m\u001b[43moutputBox\u001b[49m\u001b[38;5;241;43m=\u001b[39;49m\u001b[43moutputBox\u001b[49m\u001b[43m)\u001b[49m\n",
      "File \u001b[1;32m~\\opentps\\opentps_core\\opentps\\core\\processing\\imageProcessing\\sitkImageProcessing.py:580\u001b[0m, in \u001b[0;36mtranslateData\u001b[1;34m(data, translationInMM, fillValue, outputBox)\u001b[0m\n\u001b[0;32m    565\u001b[0m \u001b[38;5;250m\u001b[39m\u001b[38;5;124;03m\"\"\"\u001b[39;00m\n\u001b[0;32m    566\u001b[0m \u001b[38;5;124;03mApply a translation to a 3D image.\u001b[39;00m\n\u001b[0;32m    567\u001b[0m \n\u001b[1;32m   (...)\u001b[0m\n\u001b[0;32m    577\u001b[0m \u001b[38;5;124;03m    The output box to crop the transformed image to. Default is 'keepAll'\u001b[39;00m\n\u001b[0;32m    578\u001b[0m \u001b[38;5;124;03m\"\"\"\u001b[39;00m\n\u001b[0;32m    579\u001b[0m \u001b[38;5;28;01mif\u001b[39;00m \u001b[38;5;129;01mnot\u001b[39;00m np\u001b[38;5;241m.\u001b[39marray(translationInMM \u001b[38;5;241m==\u001b[39m np\u001b[38;5;241m.\u001b[39marray([\u001b[38;5;241m0\u001b[39m, \u001b[38;5;241m0\u001b[39m, \u001b[38;5;241m0\u001b[39m]))\u001b[38;5;241m.\u001b[39mall():\n\u001b[1;32m--> 580\u001b[0m     affTransformMatrix \u001b[38;5;241m=\u001b[39m \u001b[43mtransform3DMatrixFromTranslationAndRotationsVectors\u001b[49m\u001b[43m(\u001b[49m\u001b[43mtransVec\u001b[49m\u001b[38;5;241;43m=\u001b[39;49m\u001b[43mtranslationInMM\u001b[49m\u001b[43m)\u001b[49m\n\u001b[0;32m    581\u001b[0m     applyTransform3D(data, affTransformMatrix, fillValue\u001b[38;5;241m=\u001b[39mfillValue, outputBox\u001b[38;5;241m=\u001b[39moutputBox)\n",
      "File \u001b[1;32m~\\opentps\\opentps_core\\opentps\\core\\processing\\imageProcessing\\imageTransform3D.py:474\u001b[0m, in \u001b[0;36mtransform3DMatrixFromTranslationAndRotationsVectors\u001b[1;34m(transVec, rotVec)\u001b[0m\n\u001b[0;32m    468\u001b[0m rotAngleInRad \u001b[38;5;241m=\u001b[39m \u001b[38;5;241m-\u001b[39mrotAngleInDeg \u001b[38;5;241m*\u001b[39m np\u001b[38;5;241m.\u001b[39mpi \u001b[38;5;241m/\u001b[39m \u001b[38;5;241m180\u001b[39m\n\u001b[0;32m    469\u001b[0m r \u001b[38;5;241m=\u001b[39m R\u001b[38;5;241m.\u001b[39mfrom_euler(\u001b[38;5;124m'\u001b[39m\u001b[38;5;124mXYZ\u001b[39m\u001b[38;5;124m'\u001b[39m, rotAngleInRad)\n\u001b[0;32m    471\u001b[0m affineTransformMatrix \u001b[38;5;241m=\u001b[39m np\u001b[38;5;241m.\u001b[39marray([[\u001b[38;5;241m1\u001b[39m, \u001b[38;5;241m0\u001b[39m, \u001b[38;5;241m0\u001b[39m, \u001b[38;5;241m-\u001b[39mtransVec[\u001b[38;5;241m0\u001b[39m]],\n\u001b[0;32m    472\u001b[0m                               [\u001b[38;5;241m0\u001b[39m, \u001b[38;5;241m1\u001b[39m, \u001b[38;5;241m0\u001b[39m, \u001b[38;5;241m-\u001b[39mtransVec[\u001b[38;5;241m1\u001b[39m]],\n\u001b[0;32m    473\u001b[0m                               [\u001b[38;5;241m0\u001b[39m, \u001b[38;5;241m0\u001b[39m, \u001b[38;5;241m1\u001b[39m, \u001b[38;5;241m-\u001b[39mtransVec[\u001b[38;5;241m2\u001b[39m]],\n\u001b[1;32m--> 474\u001b[0m                               [\u001b[38;5;241m0\u001b[39m, \u001b[38;5;241m0\u001b[39m, \u001b[38;5;241m0\u001b[39m, \u001b[38;5;241m1\u001b[39m]])\u001b[38;5;241m.\u001b[39mastype(\u001b[43mnp\u001b[49m\u001b[38;5;241;43m.\u001b[39;49m\u001b[43mfloat\u001b[49m)\n\u001b[0;32m    476\u001b[0m affineTransformMatrix[\u001b[38;5;241m0\u001b[39m:\u001b[38;5;241m3\u001b[39m, \u001b[38;5;241m0\u001b[39m:\u001b[38;5;241m3\u001b[39m] \u001b[38;5;241m=\u001b[39m r\u001b[38;5;241m.\u001b[39mas_matrix()\n\u001b[0;32m    478\u001b[0m \u001b[38;5;28;01mreturn\u001b[39;00m affineTransformMatrix\n",
      "File \u001b[1;32mc:\\Users\\cgaban\\AppData\\Local\\anaconda3\\envs\\OpenTPS\\lib\\site-packages\\numpy\\__init__.py:353\u001b[0m, in \u001b[0;36m__getattr__\u001b[1;34m(attr)\u001b[0m\n\u001b[0;32m    348\u001b[0m     warnings\u001b[38;5;241m.\u001b[39mwarn(\n\u001b[0;32m    349\u001b[0m         \u001b[38;5;124mf\u001b[39m\u001b[38;5;124m\"\u001b[39m\u001b[38;5;124mIn the future `np.\u001b[39m\u001b[38;5;132;01m{\u001b[39;00mattr\u001b[38;5;132;01m}\u001b[39;00m\u001b[38;5;124m` will be defined as the \u001b[39m\u001b[38;5;124m\"\u001b[39m\n\u001b[0;32m    350\u001b[0m         \u001b[38;5;124m\"\u001b[39m\u001b[38;5;124mcorresponding NumPy scalar.\u001b[39m\u001b[38;5;124m\"\u001b[39m, \u001b[38;5;167;01mFutureWarning\u001b[39;00m, stacklevel\u001b[38;5;241m=\u001b[39m\u001b[38;5;241m2\u001b[39m)\n\u001b[0;32m    352\u001b[0m \u001b[38;5;28;01mif\u001b[39;00m attr \u001b[38;5;129;01min\u001b[39;00m __former_attrs__:\n\u001b[1;32m--> 353\u001b[0m     \u001b[38;5;28;01mraise\u001b[39;00m \u001b[38;5;167;01mAttributeError\u001b[39;00m(__former_attrs__[attr])\n\u001b[0;32m    355\u001b[0m \u001b[38;5;28;01mif\u001b[39;00m attr \u001b[38;5;241m==\u001b[39m \u001b[38;5;124m'\u001b[39m\u001b[38;5;124mtesting\u001b[39m\u001b[38;5;124m'\u001b[39m:\n\u001b[0;32m    356\u001b[0m     \u001b[38;5;28;01mimport\u001b[39;00m \u001b[38;5;21;01mnumpy\u001b[39;00m\u001b[38;5;21;01m.\u001b[39;00m\u001b[38;5;21;01mtesting\u001b[39;00m \u001b[38;5;28;01mas\u001b[39;00m \u001b[38;5;21;01mtesting\u001b[39;00m\n",
      "\u001b[1;31mAttributeError\u001b[0m: module 'numpy' has no attribute 'float'.\n`np.float` was a deprecated alias for the builtin `float`. To avoid this error in existing code, use `float` by itself. Doing this will not modify any behavior and is safe. If you specifically wanted the numpy scalar type, use `np.float64` here.\nThe aliases was originally deprecated in NumPy 1.20; for more details and guidance see the original release note at:\n    https://numpy.org/devdocs/release/1.20.0-notes.html#deprecations"
     ]
    }
   ],
   "source": [
    "fixed = createSynthetic3DCT()\n",
    "moving = copy.copy(fixed)\n",
    "\n",
    "translation = np.array([15, 0, 10])\n",
    "rotation = np.array([0, 5, 0])\n",
    "\n",
    "translateData(moving, translation, outputBox='same')\n",
    "rotateData(moving, rotation, outputBox='same')"
   ]
  },
  {
   "cell_type": "markdown",
   "metadata": {},
   "source": [
    "###  Perform the Rigid registration"
   ]
  },
  {
   "cell_type": "code",
   "execution_count": 4,
   "metadata": {},
   "outputs": [
    {
     "name": "stdout",
     "output_type": "stream",
     "text": [
      "Final metric value: 0.0\n",
      "Optimizer's stopping condition, RegularStepGradientDescentOptimizerv4: Gradient magnitude tolerance met after 0 iterations. Gradient magnitude (0) is less than gradient magnitude tolerance (0.0001).\n",
      "itk::simple::CompositeTransform\n",
      " CompositeTransform (000001FFA31879C0)\n",
      "   RTTI typeinfo:   class itk::CompositeTransform<double,3>\n",
      "   Reference Count: 1\n",
      "   Modified Time: 332808\n",
      "   Debug: Off\n",
      "   Object Name: \n",
      "   Observers: \n",
      "     none\n",
      "   Transforms in queue, from begin to end:\n",
      "   >>>>>>>>>\n",
      "   Euler3DTransform (000001FFB4321780)\n",
      "     RTTI typeinfo:   class itk::Euler3DTransform<double>\n",
      "     Reference Count: 1\n",
      "     Modified Time: 332799\n",
      "     Debug: Off\n",
      "     Object Name: \n",
      "     Observers: \n",
      "       none\n",
      "     Matrix: \n",
      "       1 0 0 \n",
      "       0 1 0 \n",
      "       0 0 1 \n",
      "     Offset: [0, 0, 0]\n",
      "     Center: [84.5, 84.5, 99]\n",
      "     Translation: [0, 0, 0]\n",
      "     Inverse: \n",
      "       1 0 0 \n",
      "       0 1 0 \n",
      "       0 0 1 \n",
      "     Singular: 0\n",
      "     Euler's angles: AngleX=0 AngleY=0 AngleZ=0\n",
      "     m_ComputeZYX = 0\n",
      "   End of MultiTransform.\n",
      "<<<<<<<<<<\n",
      "   TransformsToOptimizeFlags, begin() to end(): \n",
      "      1 \n",
      "   TransformsToOptimize in queue, from begin to end:\n",
      "   End of TransformsToOptimizeQueue.\n",
      "<<<<<<<<<<\n",
      "   End of CompositeTransform.\n",
      "<<<<<<<<<<\n",
      "\n",
      "Registration processing time was 1.8775033950805664 \n",
      "\n",
      "Translation [-0. -0. -0.]\n",
      "Rotation in deg [-0.  0. -0.] \n",
      "\n"
     ]
    }
   ],
   "source": [
    "start_time = time.time()\n",
    "reg = RegistrationRigid(fixed, moving)\n",
    "transform = reg.compute()\n",
    "\n",
    "processing_time = time.time() - start_time\n",
    "print('Registration processing time was', processing_time, '\\n')\n",
    "print('Translation', transform.getTranslation())\n",
    "print('Rotation in deg', transform.getRotationAngles(inDegrees=True), '\\n')\n",
    "\n",
    "## Two ways of getting the deformed moving image\n",
    "#deformedImage = reg.deformed\n",
    "deformedImage = transform.deformImage(moving)\n",
    "\n",
    "## Resample it to the same grid as the fixed image\n",
    "resampledOnFixedGrid = resampleImage3DOnImage3D(deformedImage, fixedImage=fixed, fillValue=-1000)"
   ]
  },
  {
   "cell_type": "markdown",
   "metadata": {},
   "source": [
    "### Compute the difference between the 2 images and check results of the registration"
   ]
  },
  {
   "cell_type": "code",
   "execution_count": 5,
   "metadata": {},
   "outputs": [
    {
     "ename": "AssertionError",
     "evalue": "Image difference is larger after registration",
     "output_type": "error",
     "traceback": [
      "\u001b[1;31m---------------------------------------------------------------------------\u001b[0m",
      "\u001b[1;31mAssertionError\u001b[0m                            Traceback (most recent call last)",
      "Cell \u001b[1;32mIn[5], line 10\u001b[0m\n\u001b[0;32m      8\u001b[0m diff_before_sum \u001b[38;5;241m=\u001b[39m \u001b[38;5;28mabs\u001b[39m(diff_before\u001b[38;5;241m.\u001b[39mimageArray)\u001b[38;5;241m.\u001b[39msum()\n\u001b[0;32m      9\u001b[0m diff_after_sum \u001b[38;5;241m=\u001b[39m \u001b[38;5;28mabs\u001b[39m(diff_after\u001b[38;5;241m.\u001b[39mimageArray)\u001b[38;5;241m.\u001b[39msum()\n\u001b[1;32m---> 10\u001b[0m \u001b[38;5;28;01massert\u001b[39;00m diff_before_sum \u001b[38;5;241m-\u001b[39m diff_after_sum \u001b[38;5;241m>\u001b[39m \u001b[38;5;241m0\u001b[39m, \u001b[38;5;124mf\u001b[39m\u001b[38;5;124m\"\u001b[39m\u001b[38;5;124mImage difference is larger after registration\u001b[39m\u001b[38;5;124m\"\u001b[39m\n",
      "\u001b[1;31mAssertionError\u001b[0m: Image difference is larger after registration"
     ]
    }
   ],
   "source": [
    "#IMAGE DIFFERENCE\n",
    "diff_before = fixed.copy()\n",
    "diff_before._imageArray = fixed.imageArray - moving.imageArray\n",
    "diff_after = fixed.copy()\n",
    "diff_after._imageArray = fixed.imageArray - resampledOnFixedGrid.imageArray\n",
    "\n",
    "# CHECK RESULTS\n",
    "diff_before_sum = abs(diff_before.imageArray).sum()\n",
    "diff_after_sum = abs(diff_after.imageArray).sum()\n",
    "assert diff_before_sum - diff_after_sum > 0, f\"Image difference is larger after registration\""
   ]
  },
  {
   "cell_type": "markdown",
   "metadata": {},
   "source": [
    "### Plot results"
   ]
  },
  {
   "cell_type": "code",
   "execution_count": 6,
   "metadata": {},
   "outputs": [],
   "source": [
    "#Output path\n",
    "output_path = 'Output'\n",
    "if not os.path.exists(output_path):\n",
    "    os.makedirs(output_path)\n",
    "\n",
    "y_slice = 95\n",
    "fig, ax = plt.subplots(2, 3,figsize=(8,10))\n",
    "ax[0, 0].imshow(fixed.imageArray[:, y_slice, :],cmap='gray')\n",
    "ax[0, 0].set_title('Fixed')\n",
    "ax[0, 0].set_xlabel('Origin: '+f'{fixed.origin[0]}'+','+f'{fixed.origin[1]}'+','+f'{fixed.origin[2]}')\n",
    "ax[0, 1].imshow(moving.imageArray[:, y_slice, :],cmap='gray')\n",
    "ax[0, 1].set_title('Moving')\n",
    "ax[0, 1].set_xlabel('Origin: ' + f'{moving.origin[0]}' + ',' + f'{moving.origin[1]}' + ',' + f'{moving.origin[2]}')\n",
    "diffBef = ax[0, 2].imshow(abs(diff_before.imageArray[:, y_slice, :]), vmin=0, vmax=1500)\n",
    "ax[0, 2].set_title('Diff before')\n",
    "fig.colorbar(diffBef, ax=ax[0, 2])\n",
    "ax[1, 0].imshow(deformedImage.imageArray[:, y_slice, :],cmap='gray')\n",
    "ax[1, 0].set_title('DeformedMoving')\n",
    "ax[1, 0].set_xlabel('Origin: ' + f'{deformedImage.origin[0]:.1f}' + ',' + f'{deformedImage.origin[1]:.1f}' + ',' + f'{deformedImage.origin[2]:.1f}')\n",
    "ax[1, 1].imshow(resampledOnFixedGrid.imageArray[:, y_slice, :],cmap='gray')\n",
    "ax[1, 1].set_title('resampledOnFixedGrid')\n",
    "ax[1, 1].set_xlabel('Origin: ' + f'{resampledOnFixedGrid.origin[0]:.1f}' + ',' + f'{resampledOnFixedGrid.origin[1]:.1f}' + ',' + f'{resampledOnFixedGrid.origin[2]:.1f}')\n",
    "diffAft = ax[1, 2].imshow(abs(diff_after.imageArray[:, y_slice, :]), vmin=0, vmax=1500)\n",
    "ax[1, 2].set_title('Diff after')\n",
    "plt.show()\n",
    "plt.savefig(os.path.join(output_path,\"Rigid1.png\"),format = 'png')\n",
    "plt.close()"
   ]
  },
  {
   "cell_type": "markdown",
   "metadata": {},
   "source": [
    "![png](\\assets\\img_notebooks\\Rigid1.png)"
   ]
  }
 ],
 "metadata": {
  "kernelspec": {
   "display_name": "OpenTPS",
   "language": "python",
   "name": "python3"
  },
  "language_info": {
   "codemirror_mode": {
    "name": "ipython",
    "version": 3
   },
   "file_extension": ".py",
   "mimetype": "text/x-python",
   "name": "python",
   "nbconvert_exporter": "python",
   "pygments_lexer": "ipython3",
   "version": "3.9.19"
  },
  "orig_nbformat": 4
 },
 "nbformat": 4,
 "nbformat_minor": 2
}
