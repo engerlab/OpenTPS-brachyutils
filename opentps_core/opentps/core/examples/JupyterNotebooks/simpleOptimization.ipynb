{
 "cells": [
  {
   "cell_type": "markdown",
   "id": "9728cf1a",
   "metadata": {},
   "source": [
    "# Simple IMPT plan optimization"
   ]
  },
  {
   "cell_type": "code",
   "execution_count": 1,
   "id": "3b8cb5a8",
   "metadata": {},
   "outputs": [
    {
     "name": "stdout",
     "output_type": "stream",
     "text": [
      "15/07/2024 01:27:26 PM - root - INFO - Loading logging configuration: C:\\Users\\cgaban\\opentps\\opentps_core\\opentps\\core\\config\\logger\\logging_config.json\n",
      "15/07/2024 01:27:26 PM - opentps.core._loggingConfig - INFO - Log level set: INFO\n",
      "15/07/2024 01:27:28 PM - opentps.core.processing.imageProcessing.cupyImageProcessing - WARNING - Cannot import Cupy module\n",
      "15/07/2024 01:27:28 PM - opentps.core.processing.registration.registrationMorphons - WARNING - cupy not found.\n",
      "15/07/2024 01:27:28 PM - opentps.core.processing.registration.morphonsCupy - WARNING - cupy not found.\n",
      "15/07/2024 01:27:28 PM - opentps.core.processing.C_libraries.libInterp3_wrapper - WARNING - cupy not found.\n",
      "15/07/2024 01:27:29 PM - opentps.core.processing.planOptimization.solvers.lp - WARNING - Ignore the following warning if not using Gurobi linear optimizer. Gurobi not required for most features provided in OpenTPS\n",
      "15/07/2024 01:27:29 PM - opentps.core.processing.planOptimization.solvers.lp - WARNING - No module Gurobi found\n",
      "!Licence required!\n",
      "Get free Academic license on https://www.gurobi.com/academia/academic-program-and-licenses/ \n"
     ]
    }
   ],
   "source": [
    "import math\n",
    "import os\n",
    "import sys\n",
    "\n",
    "import numpy as np\n",
    "from matplotlib import pyplot as plt\n",
    "\n",
    "from opentps.core.data.images import CTImage\n",
    "from opentps.core.data.images import ROIMask\n",
    "from opentps.core.data.plan import ObjectivesList\n",
    "from opentps.core.data.plan import PlanDesign\n",
    "from opentps.core.data import DVH\n",
    "from opentps.core.data import Patient\n",
    "from opentps.core.data.plan import FidObjective\n",
    "from opentps.core.io import mcsquareIO\n",
    "from opentps.core.io.scannerReader import readScanner\n",
    "from opentps.core.io.serializedObjectIO import saveRTPlan, loadRTPlan\n",
    "from opentps.core.processing.doseCalculation.doseCalculationConfig import DoseCalculationConfig\n",
    "from opentps.core.processing.doseCalculation.mcsquareDoseCalculator import MCsquareDoseCalculator\n",
    "from opentps.core.processing.imageProcessing.resampler3D import resampleImage3DOnImage3D, resampleImage3D\n",
    "from opentps.core.processing.planOptimization.planOptimization import IMPTPlanOptimizer"
   ]
  },
  {
   "cell_type": "markdown",
   "id": "3acebeaa",
   "metadata": {},
   "source": [
    "## CT calibration and BDL"
   ]
  },
  {
   "cell_type": "code",
   "execution_count": 2,
   "id": "eeccd52d",
   "metadata": {},
   "outputs": [],
   "source": [
    "ctCalibration = readScanner(DoseCalculationConfig().scannerFolder)\n",
    "bdl = mcsquareIO.readBDL(DoseCalculationConfig().bdlFile)"
   ]
  },
  {
   "cell_type": "markdown",
   "id": "69b1417b",
   "metadata": {},
   "source": [
    "## Create synthetic CT and ROI"
   ]
  },
  {
   "cell_type": "code",
   "execution_count": 3,
   "id": "362e9d74",
   "metadata": {},
   "outputs": [],
   "source": [
    "patient = Patient()\n",
    "patient.name = 'Patient'\n",
    "\n",
    "ctSize = 150\n",
    "\n",
    "ct = CTImage()\n",
    "ct.name = 'CT'\n",
    "ct.patient = patient\n",
    "\n",
    "\n",
    "huAir = -1024.\n",
    "huWater = ctCalibration.convertRSP2HU(1.)\n",
    "data = huAir * np.ones((ctSize, ctSize, ctSize))\n",
    "data[:, 50:, :] = huWater\n",
    "ct.imageArray = data\n",
    "\n",
    "roi = ROIMask()\n",
    "roi.patient = patient\n",
    "roi.name = 'TV'\n",
    "roi.color = (255, 0, 0) # red\n",
    "data = np.zeros((ctSize, ctSize, ctSize)).astype(bool)\n",
    "data[100:120, 100:120, 100:120] = True\n",
    "roi.imageArray = data"
   ]
  },
  {
   "cell_type": "markdown",
   "id": "c2cdc1d0",
   "metadata": {},
   "source": [
    "## Configure dose engine"
   ]
  },
  {
   "cell_type": "code",
   "execution_count": 4,
   "id": "a9c441e6",
   "metadata": {},
   "outputs": [],
   "source": [
    "mc2 = MCsquareDoseCalculator()\n",
    "mc2.beamModel = bdl\n",
    "mc2.nbPrimaries = 5e4\n",
    "mc2.ctCalibration = ctCalibration\n",
    "\n",
    "mc2._independentScoringGrid = True\n",
    "scoringSpacing = [2, 2, 2]\n",
    "mc2._scoringVoxelSpacing = scoringSpacing"
   ]
  },
  {
   "cell_type": "markdown",
   "id": "c897eb78",
   "metadata": {},
   "source": [
    "## Design plan"
   ]
  },
  {
   "cell_type": "code",
   "execution_count": 6,
   "id": "ad4b0ec7",
   "metadata": {},
   "outputs": [
    {
     "name": "stdout",
     "output_type": "stream",
     "text": [
      "15/07/2024 01:34:09 PM - opentps.core.data.plan._planDesign - INFO - Building plan ...\n",
      "15/07/2024 01:34:09 PM - opentps.core.processing.planOptimization.planInitializer - INFO - Target is dilated using a margin of 0.0 mm. This process might take some time.\n",
      "15/07/2024 01:34:09 PM - opentps.core.processing.imageProcessing.roiMasksProcessing - INFO - Using SITK to dilate mask.\n",
      "15/07/2024 01:34:14 PM - opentps.core.data.plan._planDesign - INFO - New plan created in 5.5135955810546875 sec\n",
      "15/07/2024 01:34:14 PM - opentps.core.data.plan._planDesign - INFO - Number of spots: 84\n",
      "15/07/2024 01:34:14 PM - opentps.core.processing.doseCalculation.mcsquareDoseCalculator - INFO - Prepare MCsquare Beamlet calculation\n",
      "15/07/2024 01:34:21 PM - opentps.core.io.mhdIO - INFO - Write MHD file: C:\\Users\\cgaban\\openTPS_workspace\\Simulations\\MCsquare_simulation\\CT.mhd\n",
      "15/07/2024 01:34:21 PM - opentps.core.io.mcsquareIO - INFO - Write plan: C:\\Users\\cgaban\\openTPS_workspace\\Simulations\\MCsquare_simulation\\PlanPencil.txt\n",
      "15/07/2024 01:34:22 PM - opentps.core.processing.doseCalculation.mcsquareDoseCalculator - INFO - Start MCsquare simulation\n",
      "15/07/2024 01:35:47 PM - opentps.core.io.mcsquareIO - INFO - Read sparse beamlets: C:\\Users\\cgaban\\openTPS_workspace\\Simulations\\MCsquare_simulation\\Outputs\\Sparse_Dose.txt\n",
      "15/07/2024 01:35:47 PM - opentps.core.io.mcsquareIO - INFO - Read binary file: C:\\Users\\cgaban\\openTPS_workspace\\Simulations\\MCsquare_simulation\\Outputs\\Sparse_Dose.txt\n",
      "15/07/2024 01:35:47 PM - opentps.core.io.mcsquareIO - INFO - Beamlets are computed on ['TV']\n",
      "15/07/2024 01:35:47 PM - opentps.core.io.mcsquareIO - INFO - Spot 0 : BeamID=1 LayerID=1 Position=(-9.0;-5.196152210235596) NonZeroVoxels=22741\n",
      "15/07/2024 01:35:48 PM - opentps.core.io.mcsquareIO - INFO - Spot 1 : BeamID=1 LayerID=1 Position=(-9.0;5.196152210235596) NonZeroVoxels=22500\n",
      "15/07/2024 01:35:48 PM - opentps.core.io.mcsquareIO - INFO - Spot 2 : BeamID=1 LayerID=1 Position=(-3.0;-5.196152210235596) NonZeroVoxels=22809\n",
      "15/07/2024 01:35:48 PM - opentps.core.io.mcsquareIO - INFO - Spot 3 : BeamID=1 LayerID=1 Position=(-6.0;0.0) NonZeroVoxels=22923\n",
      "15/07/2024 01:35:48 PM - opentps.core.io.mcsquareIO - INFO - Spot 4 : BeamID=1 LayerID=1 Position=(-3.0;5.196152210235596) NonZeroVoxels=22921\n",
      "15/07/2024 01:35:48 PM - opentps.core.io.mcsquareIO - INFO - Spot 5 : BeamID=1 LayerID=1 Position=(-6.0;10.392305374145508) NonZeroVoxels=21911\n",
      "15/07/2024 01:35:48 PM - opentps.core.io.mcsquareIO - INFO - Spot 6 : BeamID=1 LayerID=1 Position=(3.0;-5.196152210235596) NonZeroVoxels=22609\n",
      "15/07/2024 01:35:48 PM - opentps.core.io.mcsquareIO - INFO - Spot 7 : BeamID=1 LayerID=1 Position=(0.0;0.0) NonZeroVoxels=22306\n",
      "15/07/2024 01:35:48 PM - opentps.core.io.mcsquareIO - INFO - Spot 8 : BeamID=1 LayerID=1 Position=(3.0;5.196152210235596) NonZeroVoxels=22114\n",
      "15/07/2024 01:35:48 PM - opentps.core.io.mcsquareIO - INFO - Spot 9 : BeamID=1 LayerID=1 Position=(0.0;10.392305374145508) NonZeroVoxels=22344\n",
      "15/07/2024 01:35:48 PM - opentps.core.io.mcsquareIO - INFO - Spot 10 : BeamID=1 LayerID=1 Position=(9.0;-5.196152210235596) NonZeroVoxels=21860\n",
      "15/07/2024 01:35:48 PM - opentps.core.io.mcsquareIO - INFO - Spot 11 : BeamID=1 LayerID=1 Position=(6.0;0.0) NonZeroVoxels=21963\n",
      "15/07/2024 01:35:48 PM - opentps.core.io.mcsquareIO - INFO - Spot 12 : BeamID=1 LayerID=1 Position=(9.0;5.196152210235596) NonZeroVoxels=21831\n",
      "15/07/2024 01:35:48 PM - opentps.core.io.mcsquareIO - INFO - Spot 13 : BeamID=1 LayerID=1 Position=(6.0;10.392305374145508) NonZeroVoxels=22000\n",
      "15/07/2024 01:35:48 PM - opentps.core.io.mcsquareIO - INFO - Spot 14 : BeamID=1 LayerID=2 Position=(-9.0;-5.196152210235596) NonZeroVoxels=21542\n",
      "15/07/2024 01:35:48 PM - opentps.core.io.mcsquareIO - INFO - Spot 15 : BeamID=1 LayerID=2 Position=(-9.0;5.196152210235596) NonZeroVoxels=21364\n",
      "15/07/2024 01:35:48 PM - opentps.core.io.mcsquareIO - INFO - Spot 16 : BeamID=1 LayerID=2 Position=(-3.0;-5.196152210235596) NonZeroVoxels=21584\n",
      "15/07/2024 01:35:48 PM - opentps.core.io.mcsquareIO - INFO - Spot 17 : BeamID=1 LayerID=2 Position=(-6.0;0.0) NonZeroVoxels=21265\n",
      "15/07/2024 01:35:48 PM - opentps.core.io.mcsquareIO - INFO - Spot 18 : BeamID=1 LayerID=2 Position=(-3.0;5.196152210235596) NonZeroVoxels=21062\n",
      "15/07/2024 01:35:48 PM - opentps.core.io.mcsquareIO - INFO - Spot 19 : BeamID=1 LayerID=2 Position=(-6.0;10.392305374145508) NonZeroVoxels=21032\n",
      "15/07/2024 01:35:48 PM - opentps.core.io.mcsquareIO - INFO - Spot 20 : BeamID=1 LayerID=2 Position=(3.0;-5.196152210235596) NonZeroVoxels=21037\n",
      "15/07/2024 01:35:48 PM - opentps.core.io.mcsquareIO - INFO - Spot 21 : BeamID=1 LayerID=2 Position=(0.0;0.0) NonZeroVoxels=21531\n",
      "15/07/2024 01:35:48 PM - opentps.core.io.mcsquareIO - INFO - Spot 22 : BeamID=1 LayerID=2 Position=(3.0;5.196152210235596) NonZeroVoxels=21050\n",
      "15/07/2024 01:35:48 PM - opentps.core.io.mcsquareIO - INFO - Spot 23 : BeamID=1 LayerID=2 Position=(0.0;10.392305374145508) NonZeroVoxels=20853\n",
      "15/07/2024 01:35:48 PM - opentps.core.io.mcsquareIO - INFO - Spot 24 : BeamID=1 LayerID=2 Position=(9.0;-5.196152210235596) NonZeroVoxels=20944\n",
      "15/07/2024 01:35:48 PM - opentps.core.io.mcsquareIO - INFO - Spot 25 : BeamID=1 LayerID=2 Position=(6.0;0.0) NonZeroVoxels=20716\n",
      "15/07/2024 01:35:48 PM - opentps.core.io.mcsquareIO - INFO - Spot 26 : BeamID=1 LayerID=2 Position=(9.0;5.196152210235596) NonZeroVoxels=20694\n",
      "15/07/2024 01:35:48 PM - opentps.core.io.mcsquareIO - INFO - Spot 27 : BeamID=1 LayerID=2 Position=(6.0;10.392305374145508) NonZeroVoxels=20443\n",
      "15/07/2024 01:35:48 PM - opentps.core.io.mcsquareIO - INFO - Spot 28 : BeamID=1 LayerID=3 Position=(-9.0;-5.196152210235596) NonZeroVoxels=20569\n",
      "15/07/2024 01:35:48 PM - opentps.core.io.mcsquareIO - INFO - Spot 29 : BeamID=1 LayerID=3 Position=(-9.0;5.196152210235596) NonZeroVoxels=20364\n",
      "15/07/2024 01:35:48 PM - opentps.core.io.mcsquareIO - INFO - Spot 30 : BeamID=1 LayerID=3 Position=(-3.0;-5.196152210235596) NonZeroVoxels=20162\n",
      "15/07/2024 01:35:48 PM - opentps.core.io.mcsquareIO - INFO - Spot 31 : BeamID=1 LayerID=3 Position=(-6.0;0.0) NonZeroVoxels=20646\n",
      "15/07/2024 01:35:48 PM - opentps.core.io.mcsquareIO - INFO - Spot 32 : BeamID=1 LayerID=3 Position=(-3.0;5.196152210235596) NonZeroVoxels=19857\n",
      "15/07/2024 01:35:48 PM - opentps.core.io.mcsquareIO - INFO - Spot 33 : BeamID=1 LayerID=3 Position=(-6.0;10.392305374145508) NonZeroVoxels=20331\n",
      "15/07/2024 01:35:48 PM - opentps.core.io.mcsquareIO - INFO - Spot 34 : BeamID=1 LayerID=3 Position=(3.0;-5.196152210235596) NonZeroVoxels=20205\n",
      "15/07/2024 01:35:48 PM - opentps.core.io.mcsquareIO - INFO - Spot 35 : BeamID=1 LayerID=3 Position=(0.0;0.0) NonZeroVoxels=20102\n",
      "15/07/2024 01:35:49 PM - opentps.core.io.mcsquareIO - INFO - Spot 36 : BeamID=1 LayerID=3 Position=(3.0;5.196152210235596) NonZeroVoxels=19696\n",
      "15/07/2024 01:35:49 PM - opentps.core.io.mcsquareIO - INFO - Spot 37 : BeamID=1 LayerID=3 Position=(0.0;10.392305374145508) NonZeroVoxels=19800\n",
      "15/07/2024 01:35:49 PM - opentps.core.io.mcsquareIO - INFO - Spot 38 : BeamID=1 LayerID=3 Position=(9.0;-5.196152210235596) NonZeroVoxels=19724\n",
      "15/07/2024 01:35:49 PM - opentps.core.io.mcsquareIO - INFO - Spot 39 : BeamID=1 LayerID=3 Position=(6.0;0.0) NonZeroVoxels=20233\n",
      "15/07/2024 01:35:49 PM - opentps.core.io.mcsquareIO - INFO - Spot 40 : BeamID=1 LayerID=3 Position=(9.0;5.196152210235596) NonZeroVoxels=19652\n",
      "15/07/2024 01:35:49 PM - opentps.core.io.mcsquareIO - INFO - Spot 41 : BeamID=1 LayerID=3 Position=(6.0;10.392305374145508) NonZeroVoxels=19961\n",
      "15/07/2024 01:35:49 PM - opentps.core.io.mcsquareIO - INFO - Spot 42 : BeamID=1 LayerID=4 Position=(-9.0;-5.196152210235596) NonZeroVoxels=19205\n",
      "15/07/2024 01:35:49 PM - opentps.core.io.mcsquareIO - INFO - Spot 43 : BeamID=1 LayerID=4 Position=(-9.0;5.196152210235596) NonZeroVoxels=19339\n",
      "15/07/2024 01:35:49 PM - opentps.core.io.mcsquareIO - INFO - Spot 44 : BeamID=1 LayerID=4 Position=(-3.0;-5.196152210235596) NonZeroVoxels=19692\n",
      "15/07/2024 01:35:49 PM - opentps.core.io.mcsquareIO - INFO - Spot 45 : BeamID=1 LayerID=4 Position=(-6.0;0.0) NonZeroVoxels=19013\n",
      "15/07/2024 01:35:49 PM - opentps.core.io.mcsquareIO - INFO - Spot 46 : BeamID=1 LayerID=4 Position=(-3.0;5.196152210235596) NonZeroVoxels=19178\n",
      "15/07/2024 01:35:49 PM - opentps.core.io.mcsquareIO - INFO - Spot 47 : BeamID=1 LayerID=4 Position=(-6.0;10.392305374145508) NonZeroVoxels=19144\n",
      "15/07/2024 01:35:49 PM - opentps.core.io.mcsquareIO - INFO - Spot 48 : BeamID=1 LayerID=4 Position=(3.0;-5.196152210235596) NonZeroVoxels=18864\n",
      "15/07/2024 01:35:49 PM - opentps.core.io.mcsquareIO - INFO - Spot 49 : BeamID=1 LayerID=4 Position=(0.0;0.0) NonZeroVoxels=19182\n",
      "15/07/2024 01:35:49 PM - opentps.core.io.mcsquareIO - INFO - Spot 50 : BeamID=1 LayerID=4 Position=(3.0;5.196152210235596) NonZeroVoxels=18922\n",
      "15/07/2024 01:35:49 PM - opentps.core.io.mcsquareIO - INFO - Spot 51 : BeamID=1 LayerID=4 Position=(0.0;10.392305374145508) NonZeroVoxels=18809\n",
      "15/07/2024 01:35:49 PM - opentps.core.io.mcsquareIO - INFO - Spot 52 : BeamID=1 LayerID=4 Position=(9.0;-5.196152210235596) NonZeroVoxels=18830\n",
      "15/07/2024 01:35:49 PM - opentps.core.io.mcsquareIO - INFO - Spot 53 : BeamID=1 LayerID=4 Position=(6.0;0.0) NonZeroVoxels=19102\n",
      "15/07/2024 01:35:49 PM - opentps.core.io.mcsquareIO - INFO - Spot 54 : BeamID=1 LayerID=4 Position=(9.0;5.196152210235596) NonZeroVoxels=18850\n",
      "15/07/2024 01:35:49 PM - opentps.core.io.mcsquareIO - INFO - Spot 55 : BeamID=1 LayerID=4 Position=(6.0;10.392305374145508) NonZeroVoxels=18714\n",
      "15/07/2024 01:35:49 PM - opentps.core.io.mcsquareIO - INFO - Spot 56 : BeamID=1 LayerID=5 Position=(-9.0;-5.196152210235596) NonZeroVoxels=18643\n",
      "15/07/2024 01:35:49 PM - opentps.core.io.mcsquareIO - INFO - Spot 57 : BeamID=1 LayerID=5 Position=(-9.0;5.196152210235596) NonZeroVoxels=18775\n",
      "15/07/2024 01:35:49 PM - opentps.core.io.mcsquareIO - INFO - Spot 58 : BeamID=1 LayerID=5 Position=(-3.0;-5.196152210235596) NonZeroVoxels=18376\n",
      "15/07/2024 01:35:49 PM - opentps.core.io.mcsquareIO - INFO - Spot 59 : BeamID=1 LayerID=5 Position=(-6.0;0.0) NonZeroVoxels=18590\n",
      "15/07/2024 01:35:49 PM - opentps.core.io.mcsquareIO - INFO - Spot 60 : BeamID=1 LayerID=5 Position=(-3.0;5.196152210235596) NonZeroVoxels=18338\n",
      "15/07/2024 01:35:49 PM - opentps.core.io.mcsquareIO - INFO - Spot 61 : BeamID=1 LayerID=5 Position=(-6.0;10.392305374145508) NonZeroVoxels=18118\n",
      "15/07/2024 01:35:49 PM - opentps.core.io.mcsquareIO - INFO - Spot 62 : BeamID=1 LayerID=5 Position=(3.0;-5.196152210235596) NonZeroVoxels=18247\n",
      "15/07/2024 01:35:49 PM - opentps.core.io.mcsquareIO - INFO - Spot 63 : BeamID=1 LayerID=5 Position=(0.0;0.0) NonZeroVoxels=18339\n",
      "15/07/2024 01:35:49 PM - opentps.core.io.mcsquareIO - INFO - Spot 64 : BeamID=1 LayerID=5 Position=(3.0;5.196152210235596) NonZeroVoxels=18064\n",
      "15/07/2024 01:35:49 PM - opentps.core.io.mcsquareIO - INFO - Spot 65 : BeamID=1 LayerID=5 Position=(0.0;10.392305374145508) NonZeroVoxels=17953\n",
      "15/07/2024 01:35:49 PM - opentps.core.io.mcsquareIO - INFO - Spot 66 : BeamID=1 LayerID=5 Position=(9.0;-5.196152210235596) NonZeroVoxels=18480\n",
      "15/07/2024 01:35:49 PM - opentps.core.io.mcsquareIO - INFO - Spot 67 : BeamID=1 LayerID=5 Position=(6.0;0.0) NonZeroVoxels=18265\n",
      "15/07/2024 01:35:49 PM - opentps.core.io.mcsquareIO - INFO - Spot 68 : BeamID=1 LayerID=5 Position=(9.0;5.196152210235596) NonZeroVoxels=17645\n",
      "15/07/2024 01:35:49 PM - opentps.core.io.mcsquareIO - INFO - Spot 69 : BeamID=1 LayerID=5 Position=(6.0;10.392305374145508) NonZeroVoxels=17608\n",
      "15/07/2024 01:35:49 PM - opentps.core.io.mcsquareIO - INFO - Spot 70 : BeamID=1 LayerID=6 Position=(-9.0;-5.196152210235596) NonZeroVoxels=17734\n",
      "15/07/2024 01:35:49 PM - opentps.core.io.mcsquareIO - INFO - Spot 71 : BeamID=1 LayerID=6 Position=(-9.0;5.196152210235596) NonZeroVoxels=17709\n",
      "15/07/2024 01:35:49 PM - opentps.core.io.mcsquareIO - INFO - Spot 72 : BeamID=1 LayerID=6 Position=(-3.0;-5.196152210235596) NonZeroVoxels=17726\n",
      "15/07/2024 01:35:49 PM - opentps.core.io.mcsquareIO - INFO - Spot 73 : BeamID=1 LayerID=6 Position=(-6.0;0.0) NonZeroVoxels=17801\n",
      "15/07/2024 01:35:49 PM - opentps.core.io.mcsquareIO - INFO - Spot 74 : BeamID=1 LayerID=6 Position=(-3.0;5.196152210235596) NonZeroVoxels=17568\n",
      "15/07/2024 01:35:49 PM - opentps.core.io.mcsquareIO - INFO - Spot 75 : BeamID=1 LayerID=6 Position=(-6.0;10.392305374145508) NonZeroVoxels=17064\n",
      "15/07/2024 01:35:50 PM - opentps.core.io.mcsquareIO - INFO - Spot 76 : BeamID=1 LayerID=6 Position=(3.0;-5.196152210235596) NonZeroVoxels=17476\n",
      "15/07/2024 01:35:50 PM - opentps.core.io.mcsquareIO - INFO - Spot 77 : BeamID=1 LayerID=6 Position=(0.0;0.0) NonZeroVoxels=17391\n",
      "15/07/2024 01:35:50 PM - opentps.core.io.mcsquareIO - INFO - Spot 78 : BeamID=1 LayerID=6 Position=(3.0;5.196152210235596) NonZeroVoxels=17167\n",
      "15/07/2024 01:35:50 PM - opentps.core.io.mcsquareIO - INFO - Spot 79 : BeamID=1 LayerID=6 Position=(0.0;10.392305374145508) NonZeroVoxels=17598\n",
      "15/07/2024 01:35:50 PM - opentps.core.io.mcsquareIO - INFO - Spot 80 : BeamID=1 LayerID=6 Position=(9.0;-5.196152210235596) NonZeroVoxels=16848\n",
      "15/07/2024 01:35:50 PM - opentps.core.io.mcsquareIO - INFO - Spot 81 : BeamID=1 LayerID=6 Position=(6.0;0.0) NonZeroVoxels=17131\n",
      "15/07/2024 01:35:50 PM - opentps.core.io.mcsquareIO - INFO - Spot 82 : BeamID=1 LayerID=6 Position=(9.0;5.196152210235596) NonZeroVoxels=16762\n",
      "15/07/2024 01:35:50 PM - opentps.core.io.mcsquareIO - INFO - Spot 83 : BeamID=1 LayerID=6 Position=(6.0;10.392305374145508) NonZeroVoxels=16705\n",
      "15/07/2024 01:35:50 PM - opentps.core.io.mcsquareIO - INFO - Beamlets imported in 2.405245780944824 sec\n",
      "15/07/2024 01:35:50 PM - opentps.core.io.mcsquareIO - INFO - Beamlets loaded\n",
      "15/07/2024 01:35:50 PM - opentps.core.io.mcsquareIO - INFO - Matrix size: (3375000, 84)\n",
      "15/07/2024 01:35:50 PM - opentps.core.io.mcsquareIO - INFO - Non-zero values: 45822\n",
      "15/07/2024 01:35:50 PM - opentps.core.io.mcsquareIO - INFO - data format: float32\n",
      "15/07/2024 01:35:50 PM - opentps.core.io.mcsquareIO - INFO - Memory usage: 0.0003417171537876129 GB\n"
     ]
    }
   ],
   "source": [
    "beamNames = [\"Beam1\"]\n",
    "gantryAngles = [0.]\n",
    "couchAngles = [0.]\n",
    "\n",
    "planInit = PlanDesign()\n",
    "planInit.ct = ct\n",
    "planInit.targetMask = roi\n",
    "planInit.gantryAngles = gantryAngles\n",
    "planInit.beamNames = beamNames\n",
    "planInit.couchAngles = couchAngles\n",
    "planInit.calibration = ctCalibration\n",
    "planInit.spotSpacing = 6.0\n",
    "planInit.layerSpacing = 6.0\n",
    "planInit.targetMargin = 0.0\n",
    "planInit.setScoringParameters(scoringSpacing=[2, 2, 2], adapt_gridSize_to_new_spacing=True)\n",
    "\n",
    "plan = planInit.buildPlan()  # Spot placement\n",
    "plan.PlanName = \"NewPlan\"\n",
    "\n",
    "beamlets = mc2.computeBeamlets(ct, plan, roi=[roi])\n",
    "plan.planDesign.beamlets = beamlets\n",
    "# doseImageRef = beamlets.toDoseImage()"
   ]
  },
  {
   "cell_type": "markdown",
   "id": "7fb8fe6a",
   "metadata": {},
   "source": [
    "## Objectives"
   ]
  },
  {
   "cell_type": "code",
   "execution_count": 7,
   "id": "b67a3443",
   "metadata": {},
   "outputs": [],
   "source": [
    "plan.planDesign.objectives = ObjectivesList()\n",
    "plan.planDesign.objectives.setTarget(roi.name, 20.0)\n",
    "\n",
    "plan.planDesign.objectives.fidObjList = []\n",
    "plan.planDesign.objectives.addFidObjective(roi, FidObjective.Metrics.DMAX, 20.0, 1.0)\n",
    "plan.planDesign.objectives.addFidObjective(roi, FidObjective.Metrics.DMIN, 20.5, 1.0)"
   ]
  },
  {
   "cell_type": "markdown",
   "id": "5d09fc8a",
   "metadata": {},
   "source": [
    "## Optimize plan"
   ]
  },
  {
   "cell_type": "code",
   "execution_count": 13,
   "id": "fd5541d0",
   "metadata": {},
   "outputs": [
    {
     "name": "stdout",
     "output_type": "stream",
     "text": [
      "15/07/2024 02:56:33 PM - opentps.core.processing.planOptimization.planOptimization - INFO - Prepare optimization ...\n",
      "15/07/2024 02:56:33 PM - opentps.core.processing.planOptimization.solvers.bfgs - INFO - Iteration 1 of Scipy-L-BFGS-B\n",
      "15/07/2024 02:56:33 PM - opentps.core.processing.planOptimization.solvers.bfgs - INFO - objective = 4.509621e+01  \n",
      "15/07/2024 02:56:33 PM - opentps.core.processing.planOptimization.solvers.bfgs - INFO - Iteration 2 of Scipy-L-BFGS-B\n",
      "15/07/2024 02:56:33 PM - opentps.core.processing.planOptimization.solvers.bfgs - INFO - objective = 3.423027e+01  \n",
      "15/07/2024 02:56:33 PM - opentps.core.processing.planOptimization.solvers.bfgs - INFO - Iteration 3 of Scipy-L-BFGS-B\n",
      "15/07/2024 02:56:33 PM - opentps.core.processing.planOptimization.solvers.bfgs - INFO - objective = 2.884240e+01  \n",
      "15/07/2024 02:56:34 PM - opentps.core.processing.planOptimization.solvers.bfgs - INFO - Iteration 4 of Scipy-L-BFGS-B\n",
      "15/07/2024 02:56:34 PM - opentps.core.processing.planOptimization.solvers.bfgs - INFO - objective = 1.862097e+01  \n",
      "15/07/2024 02:56:34 PM - opentps.core.processing.planOptimization.solvers.bfgs - INFO - Iteration 5 of Scipy-L-BFGS-B\n",
      "15/07/2024 02:56:34 PM - opentps.core.processing.planOptimization.solvers.bfgs - INFO - objective = 1.711241e+01  \n",
      "15/07/2024 02:56:34 PM - opentps.core.processing.planOptimization.solvers.bfgs - INFO - Iteration 6 of Scipy-L-BFGS-B\n",
      "15/07/2024 02:56:34 PM - opentps.core.processing.planOptimization.solvers.bfgs - INFO - objective = 1.571308e+01  \n",
      "15/07/2024 02:56:34 PM - opentps.core.processing.planOptimization.solvers.bfgs - INFO - Iteration 7 of Scipy-L-BFGS-B\n",
      "15/07/2024 02:56:34 PM - opentps.core.processing.planOptimization.solvers.bfgs - INFO - objective = 1.482727e+01  \n",
      "15/07/2024 02:56:34 PM - opentps.core.processing.planOptimization.solvers.bfgs - INFO - Iteration 8 of Scipy-L-BFGS-B\n",
      "15/07/2024 02:56:34 PM - opentps.core.processing.planOptimization.solvers.bfgs - INFO - objective = 1.371158e+01  \n",
      "15/07/2024 02:56:34 PM - opentps.core.processing.planOptimization.solvers.bfgs - INFO - Iteration 9 of Scipy-L-BFGS-B\n",
      "15/07/2024 02:56:34 PM - opentps.core.processing.planOptimization.solvers.bfgs - INFO - objective = 1.143277e+01  \n",
      "15/07/2024 02:56:34 PM - opentps.core.processing.planOptimization.solvers.bfgs - INFO - Iteration 10 of Scipy-L-BFGS-B\n",
      "15/07/2024 02:56:34 PM - opentps.core.processing.planOptimization.solvers.bfgs - INFO - objective = 9.966360e+00  \n",
      "15/07/2024 02:56:34 PM - opentps.core.processing.planOptimization.solvers.bfgs - INFO - Iteration 11 of Scipy-L-BFGS-B\n",
      "15/07/2024 02:56:34 PM - opentps.core.processing.planOptimization.solvers.bfgs - INFO - objective = 9.038203e+00  \n",
      "15/07/2024 02:56:34 PM - opentps.core.processing.planOptimization.solvers.bfgs - INFO - Iteration 12 of Scipy-L-BFGS-B\n",
      "15/07/2024 02:56:34 PM - opentps.core.processing.planOptimization.solvers.bfgs - INFO - objective = 8.325132e+00  \n",
      "15/07/2024 02:56:34 PM - opentps.core.processing.planOptimization.solvers.bfgs - INFO - Iteration 13 of Scipy-L-BFGS-B\n",
      "15/07/2024 02:56:34 PM - opentps.core.processing.planOptimization.solvers.bfgs - INFO - objective = 7.948899e+00  \n",
      "15/07/2024 02:56:34 PM - opentps.core.processing.planOptimization.solvers.bfgs - INFO - Iteration 14 of Scipy-L-BFGS-B\n",
      "15/07/2024 02:56:34 PM - opentps.core.processing.planOptimization.solvers.bfgs - INFO - objective = 7.659610e+00  \n",
      "15/07/2024 02:56:34 PM - opentps.core.processing.planOptimization.solvers.bfgs - INFO - Iteration 15 of Scipy-L-BFGS-B\n",
      "15/07/2024 02:56:34 PM - opentps.core.processing.planOptimization.solvers.bfgs - INFO - objective = 7.259435e+00  \n",
      "15/07/2024 02:56:34 PM - opentps.core.processing.planOptimization.solvers.bfgs - INFO - Iteration 16 of Scipy-L-BFGS-B\n",
      "15/07/2024 02:56:34 PM - opentps.core.processing.planOptimization.solvers.bfgs - INFO - objective = 7.122981e+00  \n",
      "15/07/2024 02:56:34 PM - opentps.core.processing.planOptimization.solvers.bfgs - INFO - Iteration 17 of Scipy-L-BFGS-B\n",
      "15/07/2024 02:56:34 PM - opentps.core.processing.planOptimization.solvers.bfgs - INFO - objective = 7.072447e+00  \n",
      "15/07/2024 02:56:34 PM - opentps.core.processing.planOptimization.solvers.bfgs - INFO - Iteration 18 of Scipy-L-BFGS-B\n",
      "15/07/2024 02:56:34 PM - opentps.core.processing.planOptimization.solvers.bfgs - INFO - objective = 7.030985e+00  \n",
      "15/07/2024 02:56:34 PM - opentps.core.processing.planOptimization.solvers.bfgs - INFO - Iteration 19 of Scipy-L-BFGS-B\n",
      "15/07/2024 02:56:34 PM - opentps.core.processing.planOptimization.solvers.bfgs - INFO - objective = 7.008528e+00  \n",
      "15/07/2024 02:56:35 PM - opentps.core.processing.planOptimization.solvers.bfgs - INFO - Iteration 20 of Scipy-L-BFGS-B\n",
      "15/07/2024 02:56:35 PM - opentps.core.processing.planOptimization.solvers.bfgs - INFO - objective = 6.992980e+00  \n",
      "15/07/2024 02:56:35 PM - opentps.core.processing.planOptimization.solvers.bfgs - INFO - Iteration 21 of Scipy-L-BFGS-B\n",
      "15/07/2024 02:56:35 PM - opentps.core.processing.planOptimization.solvers.bfgs - INFO - objective = 6.977251e+00  \n",
      "15/07/2024 02:56:35 PM - opentps.core.processing.planOptimization.solvers.bfgs - INFO - Iteration 22 of Scipy-L-BFGS-B\n",
      "15/07/2024 02:56:35 PM - opentps.core.processing.planOptimization.solvers.bfgs - INFO - objective = 6.955786e+00  \n",
      "15/07/2024 02:56:35 PM - opentps.core.processing.planOptimization.solvers.bfgs - INFO - Iteration 23 of Scipy-L-BFGS-B\n",
      "15/07/2024 02:56:35 PM - opentps.core.processing.planOptimization.solvers.bfgs - INFO - objective = 6.935096e+00  \n",
      "15/07/2024 02:56:35 PM - opentps.core.processing.planOptimization.solvers.bfgs - INFO - Iteration 24 of Scipy-L-BFGS-B\n",
      "15/07/2024 02:56:35 PM - opentps.core.processing.planOptimization.solvers.bfgs - INFO - objective = 6.917922e+00  \n",
      "15/07/2024 02:56:35 PM - opentps.core.processing.planOptimization.solvers.bfgs - INFO - Iteration 25 of Scipy-L-BFGS-B\n",
      "15/07/2024 02:56:35 PM - opentps.core.processing.planOptimization.solvers.bfgs - INFO - objective = 6.905184e+00  \n",
      "15/07/2024 02:56:35 PM - opentps.core.processing.planOptimization.solvers.bfgs - INFO - Iteration 26 of Scipy-L-BFGS-B\n",
      "15/07/2024 02:56:35 PM - opentps.core.processing.planOptimization.solvers.bfgs - INFO - objective = 6.895323e+00  \n",
      "15/07/2024 02:56:35 PM - opentps.core.processing.planOptimization.solvers.bfgs - INFO - Iteration 27 of Scipy-L-BFGS-B\n",
      "15/07/2024 02:56:35 PM - opentps.core.processing.planOptimization.solvers.bfgs - INFO - objective = 6.890142e+00  \n",
      "15/07/2024 02:56:35 PM - opentps.core.processing.planOptimization.solvers.bfgs - INFO - Iteration 28 of Scipy-L-BFGS-B\n",
      "15/07/2024 02:56:35 PM - opentps.core.processing.planOptimization.solvers.bfgs - INFO - objective = 6.887101e+00  \n",
      "15/07/2024 02:56:35 PM - opentps.core.processing.planOptimization.solvers.bfgs - INFO - Iteration 29 of Scipy-L-BFGS-B\n",
      "15/07/2024 02:56:35 PM - opentps.core.processing.planOptimization.solvers.bfgs - INFO - objective = 6.883135e+00  \n",
      "15/07/2024 02:56:35 PM - opentps.core.processing.planOptimization.solvers.bfgs - INFO - Iteration 30 of Scipy-L-BFGS-B\n",
      "15/07/2024 02:56:35 PM - opentps.core.processing.planOptimization.solvers.bfgs - INFO - objective = 6.876480e+00  \n",
      "15/07/2024 02:56:35 PM - opentps.core.processing.planOptimization.solvers.bfgs - INFO - Iteration 31 of Scipy-L-BFGS-B\n",
      "15/07/2024 02:56:35 PM - opentps.core.processing.planOptimization.solvers.bfgs - INFO - objective = 6.871456e+00  \n",
      "15/07/2024 02:56:35 PM - opentps.core.processing.planOptimization.solvers.bfgs - INFO - Iteration 32 of Scipy-L-BFGS-B\n",
      "15/07/2024 02:56:35 PM - opentps.core.processing.planOptimization.solvers.bfgs - INFO - objective = 6.867263e+00  \n",
      "15/07/2024 02:56:35 PM - opentps.core.processing.planOptimization.solvers.bfgs - INFO - Iteration 33 of Scipy-L-BFGS-B\n",
      "15/07/2024 02:56:35 PM - opentps.core.processing.planOptimization.solvers.bfgs - INFO - objective = 6.862129e+00  \n",
      "15/07/2024 02:56:35 PM - opentps.core.processing.planOptimization.solvers.bfgs - INFO - Iteration 34 of Scipy-L-BFGS-B\n",
      "15/07/2024 02:56:35 PM - opentps.core.processing.planOptimization.solvers.bfgs - INFO - objective = 6.853608e+00  \n",
      "15/07/2024 02:56:35 PM - opentps.core.processing.planOptimization.solvers.bfgs - INFO - Iteration 35 of Scipy-L-BFGS-B\n",
      "15/07/2024 02:56:35 PM - opentps.core.processing.planOptimization.solvers.bfgs - INFO - objective = 6.844735e+00  \n",
      "15/07/2024 02:56:35 PM - opentps.core.processing.planOptimization.solvers.bfgs - INFO - Iteration 36 of Scipy-L-BFGS-B\n",
      "15/07/2024 02:56:36 PM - opentps.core.processing.planOptimization.solvers.bfgs - INFO - objective = 6.840968e+00  \n",
      "15/07/2024 02:56:36 PM - opentps.core.processing.planOptimization.solvers.bfgs - INFO - Iteration 37 of Scipy-L-BFGS-B\n",
      "15/07/2024 02:56:36 PM - opentps.core.processing.planOptimization.solvers.bfgs - INFO - objective = 6.836005e+00  \n",
      "15/07/2024 02:56:36 PM - opentps.core.processing.planOptimization.solvers.bfgs - INFO - Iteration 38 of Scipy-L-BFGS-B\n",
      "15/07/2024 02:56:36 PM - opentps.core.processing.planOptimization.solvers.bfgs - INFO - objective = 6.831830e+00  \n",
      "15/07/2024 02:56:36 PM - opentps.core.processing.planOptimization.solvers.bfgs - INFO - Iteration 39 of Scipy-L-BFGS-B\n",
      "15/07/2024 02:56:36 PM - opentps.core.processing.planOptimization.solvers.bfgs - INFO - objective = 6.827376e+00  \n",
      "15/07/2024 02:56:36 PM - opentps.core.processing.planOptimization.solvers.bfgs - INFO - Iteration 40 of Scipy-L-BFGS-B\n",
      "15/07/2024 02:56:36 PM - opentps.core.processing.planOptimization.solvers.bfgs - INFO - objective = 6.823934e+00  \n",
      "15/07/2024 02:56:36 PM - opentps.core.processing.planOptimization.solvers.bfgs - INFO - Iteration 41 of Scipy-L-BFGS-B\n",
      "15/07/2024 02:56:36 PM - opentps.core.processing.planOptimization.solvers.bfgs - INFO - objective = 6.821504e+00  \n",
      "15/07/2024 02:56:36 PM - opentps.core.processing.planOptimization.solvers.bfgs - INFO - Iteration 42 of Scipy-L-BFGS-B\n",
      "15/07/2024 02:56:36 PM - opentps.core.processing.planOptimization.solvers.bfgs - INFO - objective = 6.818237e+00  \n",
      "15/07/2024 02:56:36 PM - opentps.core.processing.planOptimization.solvers.bfgs - INFO - Iteration 43 of Scipy-L-BFGS-B\n",
      "15/07/2024 02:56:36 PM - opentps.core.processing.planOptimization.solvers.bfgs - INFO - objective = 6.814236e+00  \n",
      "15/07/2024 02:56:36 PM - opentps.core.processing.planOptimization.solvers.bfgs - INFO - Iteration 44 of Scipy-L-BFGS-B\n",
      "15/07/2024 02:56:36 PM - opentps.core.processing.planOptimization.solvers.bfgs - INFO - objective = 6.810740e+00  \n",
      "15/07/2024 02:56:36 PM - opentps.core.processing.planOptimization.solvers.bfgs - INFO - Iteration 45 of Scipy-L-BFGS-B\n",
      "15/07/2024 02:56:36 PM - opentps.core.processing.planOptimization.solvers.bfgs - INFO - objective = 6.809839e+00  \n",
      "15/07/2024 02:56:36 PM - opentps.core.processing.planOptimization.solvers.bfgs - INFO - Iteration 46 of Scipy-L-BFGS-B\n",
      "15/07/2024 02:56:36 PM - opentps.core.processing.planOptimization.solvers.bfgs - INFO - objective = 6.808058e+00  \n",
      "15/07/2024 02:56:36 PM - opentps.core.processing.planOptimization.solvers.bfgs - INFO - Iteration 47 of Scipy-L-BFGS-B\n",
      "15/07/2024 02:56:36 PM - opentps.core.processing.planOptimization.solvers.bfgs - INFO - objective = 6.807057e+00  \n",
      "15/07/2024 02:56:36 PM - opentps.core.processing.planOptimization.solvers.bfgs - INFO - Iteration 48 of Scipy-L-BFGS-B\n",
      "15/07/2024 02:56:36 PM - opentps.core.processing.planOptimization.solvers.bfgs - INFO - objective = 6.804647e+00  \n",
      "15/07/2024 02:56:36 PM - opentps.core.processing.planOptimization.solvers.bfgs - INFO - Iteration 49 of Scipy-L-BFGS-B\n",
      "15/07/2024 02:56:36 PM - opentps.core.processing.planOptimization.solvers.bfgs - INFO - objective = 6.802695e+00  \n",
      "15/07/2024 02:56:36 PM - opentps.core.processing.planOptimization.solvers.bfgs - INFO - Iteration 50 of Scipy-L-BFGS-B\n",
      "15/07/2024 02:56:36 PM - opentps.core.processing.planOptimization.solvers.bfgs - INFO - objective = 6.800978e+00  \n",
      "15/07/2024 02:56:36 PM - opentps.core.processing.planOptimization.planOptimization - INFO -  ScipyOpt terminated in 50 Iter, x = [10.421963106967667, 6.493098453853746, 2.405064962418783, -0.018839142320006864, -0.2988362015470077, 8.493798219649875, 9.716956517535918, 0.0182366168104149, 3.3369524005792455, 3.5779101213368487, 7.044006726500277, 0.09499782985210362, 4.988398804145804, 8.933216019285215, 4.370377019845806, 1.2521244174036044, 3.481751902340902, -0.11515963418618917, 0.031443513309092855, 5.361007479067581, 1.627444725939102, -0.039353088076045255, -0.2314369554679697, 0.028176845372669873, 4.909982500481365, 0.03514923316071698, 1.020317133611207, 4.759851574001209, 3.6933487281463586, 3.273147430134626, 3.9342269789139044, -0.02130984095083051, -0.10316841810138498, 3.596129933105824, 2.114718535728764, 0.03671145829784177, 0.5444738977009832, 1.5904271862532162, 4.5143612173221666, 0.006494060527262504, 2.5780471117949397, 4.248927039251119, 3.462095015111113, 1.273432001714633, 3.304940312738787, -0.08653506265380084, 4.344513694151741, 1.4668242594571241, 0.26446632760234806, 1.3257092817135347, 4.014503519009076, 0.017527373439363992, 2.579161034612014, 3.1687637430699453, 3.827892645855506, 3.6023566395554494, 3.098858821709584, -0.3394919540006796, 1.0982922495152518, 2.490138894568022, 3.0622663652395588, -0.52493363316399, 2.6427969586353983, 2.3340490463260366, 3.3823905732215436, 0.6166598271210398, 2.79696392346221, 2.6751885346332234, 0.8822810053825378, 0.8822810053825378, 0.8822810053825378, 0.8822810053825378, 0.8822810053825378, 0.8822810053825378, 0.8822810053825378, 0.8822810053825378, 0.8822810053825378, 0.8822810053825378, 0.8822810053825378, 0.8822810053825378, 0.8822810053825378, 0.8822810053825378], f(x) = [369.8150634765625, 45.09621047973633, 34.230265617370605, 28.842398643493652, 18.620967388153076, 17.112411499023438, 15.71307897567749, 14.827269077301025, 13.7115797996521, 11.432766914367676, 9.966359615325928, 9.038203239440918, 8.325131893157959, 7.948898792266846, 7.659609794616699, 7.259434700012207, 7.122981071472168, 7.072447061538696, 7.030985355377197, 7.008528470993042, 6.9929797649383545, 6.977251291275024, 6.955786466598511, 6.93509578704834, 6.917921543121338, 6.905183553695679, 6.895323276519775, 6.890142202377319, 6.887100696563721, 6.8831353187561035, 6.876479864120483, 6.871456146240234, 6.867263078689575, 6.86212944984436, 6.853607892990112, 6.8447346687316895, 6.840967655181885, 6.836005210876465, 6.831830024719238, 6.827375888824463, 6.823934078216553, 6.8215038776397705, 6.818236589431763, 6.814236164093018, 6.810739755630493, 6.8098390102386475, 6.808057546615601, 6.807056903839111, 6.804646968841553, 6.802695274353027, 6.800977945327759], time elapsed 3.340735673904419, time per iter 0.06681471347808837\n",
      "15/07/2024 02:56:36 PM - opentps.core.processing.planOptimization.planOptimization - INFO - Total dose calculation ...\n",
      "15/07/2024 02:56:36 PM - opentps.core.processing.planOptimization.planOptimization - INFO - Optimization done.\n"
     ]
    }
   ],
   "source": [
    "solver = IMPTPlanOptimizer(method='Scipy-LBFGS', plan=plan, maxit=50)\n",
    "doseImage, ps = solver.optimize()"
   ]
  },
  {
   "cell_type": "markdown",
   "id": "0299777c",
   "metadata": {},
   "source": [
    "## Final dose computation"
   ]
  },
  {
   "cell_type": "code",
   "execution_count": 15,
   "id": "57590896",
   "metadata": {},
   "outputs": [
    {
     "name": "stdout",
     "output_type": "stream",
     "text": [
      "02/08/2023 02:20:26 PM - opentps.core.processing.doseCalculation.mcsquareDoseCalculator - INFO - Prepare MCsquare Dose calculation\n",
      "02/08/2023 02:20:26 PM - opentps.core.io.mhdIO - INFO - Write MHD file: C:\\Users\\romai\\openTPS_workspace\\Simulations\\MCsquare_simulation\\CT.mhd\n",
      "02/08/2023 02:20:26 PM - opentps.core.io.mcsquareIO - INFO - Write plan: C:\\Users\\romai\\openTPS_workspace\\Simulations\\MCsquare_simulation\\PlanPencil.txt\n",
      "02/08/2023 02:20:27 PM - opentps.core.processing.doseCalculation.mcsquareDoseCalculator - INFO - Start MCsquare simulation\n"
     ]
    }
   ],
   "source": [
    "mc2.nbPrimaries = 1e7\n",
    "doseImage = mc2.computeDose(ct, plan)"
   ]
  },
  {
   "cell_type": "markdown",
   "id": "2c9c6ad6",
   "metadata": {},
   "source": [
    "## Plots"
   ]
  },
  {
   "cell_type": "code",
   "execution_count": 12,
   "id": "9ab6d085",
   "metadata": {},
   "outputs": [
    {
     "name": "stdout",
     "output_type": "stream",
     "text": [
      "D95 = 15.05126953125 Gy\n",
      "D5 = 23.62060546875 Gy\n",
      "D5 - D95 =  8.5693359375 Gy\n",
      "15/07/2024 02:21:38 PM - opentps.core.processing.imageProcessing.roiMasksProcessing - INFO - Using SITK to dilate mask.\n"
     ]
    }
   ],
   "source": [
    " # Compute DVH on resampled contour\n",
    "roiResampled = resampleImage3D(roi, origin=ct.origin, spacing=scoringSpacing)\n",
    "target_DVH = DVH(roiResampled, doseImage)\n",
    "print('D95 = ' + str(target_DVH.D95) + ' Gy')\n",
    "print('D5 = ' + str(target_DVH.D5) + ' Gy')\n",
    "print('D5 - D95 =  {} Gy'.format(target_DVH.D5 - target_DVH.D95))\n",
    "\n",
    "# center of mass\n",
    "roi = resampleImage3DOnImage3D(roi, ct)\n",
    "COM_coord = roi.centerOfMass\n",
    "COM_index = roi.getVoxelIndexFromPosition(COM_coord)\n",
    "Z_coord = COM_index[2]\n",
    "\n",
    "img_ct = ct.imageArray[:, :, Z_coord].transpose(1, 0)\n",
    "contourTargetMask = roi.getBinaryContourMask()\n",
    "img_mask = contourTargetMask.imageArray[:, :, Z_coord].transpose(1, 0)\n",
    "img_dose = resampleImage3DOnImage3D(doseImage, ct)\n",
    "img_dose = img_dose.imageArray[:, :, Z_coord].transpose(1, 0)\n",
    "\n",
    "#Output path\n",
    "output_path = 'Output'\n",
    "if not os.path.exists(output_path):\n",
    "    os.makedirs(output_path)\n",
    "\n",
    "# Display dose\n",
    "fig, ax = plt.subplots(1, 2, figsize=(12, 5))\n",
    "ax[0].imshow(img_ct, cmap='gray')\n",
    "ax[0].imshow(img_mask, alpha=.2, cmap='binary')  # PTV\n",
    "dose = ax[0].imshow(img_dose, cmap='jet', alpha=.2)\n",
    "plt.colorbar(dose, ax=ax[0])\n",
    "ax[1].plot(target_DVH.histogram[0], target_DVH.histogram[1], label=target_DVH.name)\n",
    "ax[1].set_xlabel(\"Dose (Gy)\")\n",
    "ax[1].set_ylabel(\"Volume (%)\")\n",
    "plt.grid(True)\n",
    "plt.legend()\n",
    "plt.show()\n",
    "\n",
    "plt.savefig(os.path.join(output_path, 'SimpleOpti1.png'),format = 'png')\n",
    "plt.close()"
   ]
  },
  {
   "cell_type": "markdown",
   "id": "b25f8e7d",
   "metadata": {},
   "source": [
    "![png](\\assets\\img_notebooks\\SimpleOpti1.png)"
   ]
  }
 ],
 "metadata": {
  "kernelspec": {
   "display_name": "Python 3.9.12 ('opentps')",
   "language": "python",
   "name": "python3"
  },
  "language_info": {
   "codemirror_mode": {
    "name": "ipython",
    "version": 3
   },
   "file_extension": ".py",
   "mimetype": "text/x-python",
   "name": "python",
   "nbconvert_exporter": "python",
   "pygments_lexer": "ipython3",
   "version": "3.9.19"
  },
  "vscode": {
   "interpreter": {
    "hash": "7b0bd5f63084322ae0b326807c25fea0f36e3c8e2f51ce206e294eef3d72827b"
   }
  }
 },
 "nbformat": 4,
 "nbformat_minor": 5
}
