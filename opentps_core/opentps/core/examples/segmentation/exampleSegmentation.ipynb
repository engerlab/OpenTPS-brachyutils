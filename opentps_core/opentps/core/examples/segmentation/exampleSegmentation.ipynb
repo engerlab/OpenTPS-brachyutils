{
 "cells": [
  {
   "cell_type": "markdown",
   "metadata": {},
   "source": [
    "## Segmentation example"
   ]
  },
  {
   "cell_type": "code",
   "execution_count": 2,
   "metadata": {},
   "outputs": [
    {
     "name": "stdout",
     "output_type": "stream",
     "text": [
      "27/07/2023 09:45:24 AM - root - INFO - Loading logging configuration: c:\\Users\\romai\\anaconda3\\envs\\OpenTPS\\lib\\site-packages\\opentps\\core\\config\\logger\\logging_config.json\n",
      "27/07/2023 09:45:24 AM - opentps.core._loggingConfig - INFO - Log level set: INFO\n",
      "27/07/2023 09:45:25 AM - opentps.core.processing.imageProcessing.cupyImageProcessing - WARNING - Cannot import Cupy module\n",
      "27/07/2023 09:45:26 AM - opentps.core.processing.registration.registrationMorphons - WARNING - cupy not found.\n",
      "27/07/2023 09:45:26 AM - opentps.core.processing.C_libraries.libInterp3_wrapper - WARNING - cupy not found.\n"
     ]
    }
   ],
   "source": [
    "import numpy as np\n",
    "import matplotlib.pyplot as plt\n",
    "import logging\n",
    "\n",
    "from opentps.core.data.images import CTImage\n",
    "from opentps.core.processing.segmentation.segmentation3D import applyThreshold\n",
    "from opentps.core.processing.segmentation.segmentationCT import SegmentationCT\n",
    "from opentps.core.examples.syntheticData import *"
   ]
  },
  {
   "cell_type": "markdown",
   "metadata": {},
   "source": [
    "#### Generate synthetic CT image and segment it"
   ]
  },
  {
   "cell_type": "code",
   "execution_count": 4,
   "metadata": {},
   "outputs": [
    {
     "name": "stdout",
     "output_type": "stream",
     "text": [
      "27/07/2023 09:47:07 AM - opentps.core.processing.imageProcessing.roiMasksProcessing - INFO - Using cupy to open mask\n",
      "27/07/2023 09:47:07 AM - opentps.core.processing.imageProcessing.roiMasksProcessing - WARNING - Cupy not working to open mask.\n",
      "27/07/2023 09:47:07 AM - opentps.core.processing.imageProcessing.roiMasksProcessing - WARNING - Scipy used to open mask.\n"
     ]
    },
    {
     "name": "stdout",
     "output_type": "stream",
     "text": [
      "27/07/2023 09:47:08 AM - opentps.core.processing.imageProcessing.roiMasksProcessing - INFO - Using cupy to open mask\n",
      "27/07/2023 09:47:08 AM - opentps.core.processing.imageProcessing.roiMasksProcessing - WARNING - Cupy not working to open mask.\n",
      "27/07/2023 09:47:08 AM - opentps.core.processing.imageProcessing.roiMasksProcessing - WARNING - Scipy used to open mask.\n",
      "27/07/2023 09:47:08 AM - opentps.core.processing.imageProcessing.roiMasksProcessing - WARNING - Cupy not working to erode mask.\n",
      "27/07/2023 09:47:08 AM - opentps.core.processing.imageProcessing.roiMasksProcessing - INFO - Scipy used to erode mask.\n",
      "27/07/2023 09:47:08 AM - opentps.core.processing.imageProcessing.roiMasksProcessing - INFO - Using cupy to open mask\n",
      "27/07/2023 09:47:08 AM - opentps.core.processing.imageProcessing.roiMasksProcessing - WARNING - Cupy not working to open mask.\n",
      "27/07/2023 09:47:08 AM - opentps.core.processing.imageProcessing.roiMasksProcessing - WARNING - Scipy used to open mask.\n",
      "27/07/2023 09:47:18 AM - opentps.core.processing.imageProcessing.roiMasksProcessing - INFO - Using cupy to open mask\n",
      "27/07/2023 09:47:18 AM - opentps.core.processing.imageProcessing.roiMasksProcessing - WARNING - Cupy not working to open mask.\n",
      "27/07/2023 09:47:18 AM - opentps.core.processing.imageProcessing.roiMasksProcessing - WARNING - Scipy used to open mask.\n",
      "27/07/2023 09:47:18 AM - opentps.core.processing.imageProcessing.roiMasksProcessing - INFO - Using cupy to open mask\n",
      "27/07/2023 09:47:18 AM - opentps.core.processing.imageProcessing.roiMasksProcessing - WARNING - Cupy not working to open mask.\n",
      "27/07/2023 09:47:18 AM - opentps.core.processing.imageProcessing.roiMasksProcessing - WARNING - Scipy used to open mask.\n",
      "27/07/2023 09:47:18 AM - opentps.core.processing.imageProcessing.roiMasksProcessing - INFO - Using cupy to open mask\n",
      "27/07/2023 09:47:18 AM - opentps.core.processing.imageProcessing.roiMasksProcessing - WARNING - Cupy not working to open mask.\n",
      "27/07/2023 09:47:18 AM - opentps.core.processing.imageProcessing.roiMasksProcessing - WARNING - Scipy used to open mask.\n",
      "27/07/2023 09:47:19 AM - opentps.core.processing.imageProcessing.roiMasksProcessing - INFO - Using cupy to open mask\n",
      "27/07/2023 09:47:19 AM - opentps.core.processing.imageProcessing.roiMasksProcessing - WARNING - Cupy not working to open mask.\n",
      "27/07/2023 09:47:19 AM - opentps.core.processing.imageProcessing.roiMasksProcessing - WARNING - Scipy used to open mask.\n",
      "27/07/2023 09:47:19 AM - opentps.core.processing.imageProcessing.roiMasksProcessing - INFO - Using cupy to open mask\n",
      "27/07/2023 09:47:19 AM - opentps.core.processing.imageProcessing.roiMasksProcessing - WARNING - Cupy not working to open mask.\n",
      "27/07/2023 09:47:19 AM - opentps.core.processing.imageProcessing.roiMasksProcessing - WARNING - Scipy used to open mask.\n",
      "27/07/2023 09:47:19 AM - opentps.core.processing.imageProcessing.roiMasksProcessing - WARNING - Cupy not working to erode mask.\n",
      "27/07/2023 09:47:19 AM - opentps.core.processing.imageProcessing.roiMasksProcessing - INFO - Scipy used to erode mask.\n",
      "27/07/2023 09:47:19 AM - opentps.core.processing.imageProcessing.roiMasksProcessing - INFO - Using cupy to open mask\n",
      "27/07/2023 09:47:19 AM - opentps.core.processing.imageProcessing.roiMasksProcessing - WARNING - Cupy not working to open mask.\n",
      "27/07/2023 09:47:19 AM - opentps.core.processing.imageProcessing.roiMasksProcessing - WARNING - Scipy used to open mask.\n",
      "27/07/2023 09:47:29 AM - opentps.core.processing.imageProcessing.roiMasksProcessing - INFO - Using cupy to open mask\n",
      "27/07/2023 09:47:29 AM - opentps.core.processing.imageProcessing.roiMasksProcessing - WARNING - Cupy not working to open mask.\n",
      "27/07/2023 09:47:29 AM - opentps.core.processing.imageProcessing.roiMasksProcessing - WARNING - Scipy used to open mask.\n",
      "27/07/2023 09:47:30 AM - opentps.core.processing.imageProcessing.roiMasksProcessing - INFO - Using SITK to dilate mask.\n",
      "27/07/2023 09:47:30 AM - opentps.core.processing.imageProcessing.roiMasksProcessing - INFO - Using cupy to open mask\n",
      "27/07/2023 09:47:30 AM - opentps.core.processing.imageProcessing.roiMasksProcessing - WARNING - Cupy not working to open mask.\n",
      "27/07/2023 09:47:30 AM - opentps.core.processing.imageProcessing.roiMasksProcessing - WARNING - Scipy used to open mask.\n",
      "27/07/2023 09:47:31 AM - opentps.core.processing.imageProcessing.roiMasksProcessing - INFO - Using cupy to open mask\n",
      "27/07/2023 09:47:31 AM - opentps.core.processing.imageProcessing.roiMasksProcessing - WARNING - Cupy not working to open mask.\n",
      "27/07/2023 09:47:31 AM - opentps.core.processing.imageProcessing.roiMasksProcessing - WARNING - Scipy used to open mask.\n"
     ]
    }
   ],
   "source": [
    "# GENERATE SYNTHETIC CT IMAGE\n",
    "ct = createSynthetic3DCT()\n",
    "\n",
    "# APPLY THRESHOLD SEGMENTATION\n",
    "mask = applyThreshold(ct, -750)\n",
    "\n",
    "# APPLY CT BODY SEGMENTATION\n",
    "seg = SegmentationCT(ct)\n",
    "body = seg.segmentBody()\n",
    "bones = seg.segmentBones()\n",
    "lungs = seg.segmentLungs()\n",
    "\n",
    "# CHECK RESULTS\n",
    "assert (body.imageArray[50,100,80] == True) & (body.imageArray[0,0,0] == False), f\"Wrong body segmentation\"\n",
    "assert (bones.imageArray[85,100,50] == True) & (bones.imageArray[85,110,50] == False), f\"Wrong bones segmentation\"\n",
    "assert (lungs.imageArray[120,100,35] == True) & (lungs.imageArray[50,100,35] == False), f\"Wrong lungs segmentation\"\n"
   ]
  },
  {
   "cell_type": "markdown",
   "metadata": {},
   "source": [
    "#### Display results"
   ]
  },
  {
   "cell_type": "code",
   "execution_count": 6,
   "metadata": {},
   "outputs": [
    {
     "data": {
      "image/png": "[encoded data removed]",
      "text/plain": [
       "<Figure size 640x480 with 10 Axes>"
      ]
     },
     "metadata": {},
     "output_type": "display_data"
    }
   ],
   "source": [
    "fig, ax = plt.subplots(2, 5,figsize = (20,10))\n",
    "fig.tight_layout()\n",
    "y_slice = 100\n",
    "z_slice = 35 #round(ct.imageArray.shape[2] / 2) - 1\n",
    "ax[0,0].imshow(ct.imageArray[:, y_slice, :].T[::-1, ::1], cmap='gray', origin='upper', vmin=-1000, vmax=1000)\n",
    "ax[0,0].title.set_text('CT')\n",
    "ax[0,1].imshow(mask.imageArray[:, y_slice, :].T[::-1, ::1], cmap='gray', origin='upper', vmin=0, vmax=1)\n",
    "ax[0,1].title.set_text('Threshold')\n",
    "ax[0,2].imshow(body.imageArray[:, y_slice, :].T[::-1, ::1], cmap='gray', origin='upper', vmin=0, vmax=1)\n",
    "ax[0,2].title.set_text('Body')\n",
    "ax[0,3].imshow(bones.imageArray[:, y_slice, :].T[::-1, ::1], cmap='gray', origin='upper', vmin=0, vmax=1)\n",
    "ax[0,3].title.set_text('Bones')\n",
    "ax[0,4].imshow(lungs.imageArray[:, y_slice, :].T[::-1, ::1], cmap='gray', origin='upper', vmin=0, vmax=1)\n",
    "ax[0,4].title.set_text('Lungs')\n",
    "\n",
    "ax[1,0].imshow(ct.imageArray[:, :, z_slice].T[::1, ::1], cmap='gray', origin='upper', vmin=-1000, vmax=1000)\n",
    "ax[1,0].title.set_text('CT')\n",
    "ax[1,1].imshow(mask.imageArray[:, :, z_slice].T[::1, ::1], cmap='gray', origin='upper', vmin=0, vmax=1)\n",
    "ax[1,1].title.set_text('Threshold')\n",
    "ax[1,2].imshow(body.imageArray[:, :, z_slice].T[::1, ::1], cmap='gray', origin='upper', vmin=0, vmax=1)\n",
    "ax[1,2].title.set_text('Body')\n",
    "ax[1,3].imshow(bones.imageArray[:, :, z_slice].T[::1, ::1], cmap='gray', origin='upper', vmin=0, vmax=1)\n",
    "ax[1,3].title.set_text('Bones')\n",
    "ax[1,4].imshow(lungs.imageArray[:, :, z_slice].T[::1, ::1], cmap='gray', origin='upper', vmin=0, vmax=1)\n",
    "ax[1,4].title.set_text('Lungs')\n",
    "\n",
    "plt.show()"
   ]
  },
  {
   "cell_type": "code",
   "execution_count": null,
   "metadata": {},
   "outputs": [],
   "source": []
  }
 ],
 "metadata": {
  "kernelspec": {
   "display_name": "OpenTPS",
   "language": "python",
   "name": "python3"
  },
  "language_info": {
   "codemirror_mode": {
    "name": "ipython",
    "version": 3
   },
   "file_extension": ".py",
   "mimetype": "text/x-python",
   "name": "python",
   "nbconvert_exporter": "python",
   "pygments_lexer": "ipython3",
   "version": "3.9.16"
  },
  "orig_nbformat": 4
 },
 "nbformat": 4,
 "nbformat_minor": 2
}
