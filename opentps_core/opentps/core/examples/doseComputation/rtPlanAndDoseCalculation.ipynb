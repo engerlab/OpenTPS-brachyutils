{
 "cells": [
  {
   "cell_type": "markdown",
   "metadata": {},
   "source": [
    "## RT Plan and dose calculation"
   ]
  },
  {
   "cell_type": "code",
   "execution_count": 8,
   "metadata": {
    "ExecuteTime": {
     "end_time": "2023-08-07T16:10:19.477170100Z",
     "start_time": "2023-08-07T16:10:19.448179300Z"
    }
   },
   "outputs": [],
   "source": [
    "import os\n",
    "import matplotlib.pyplot as plt\n",
    "from opentps.core.data.plan._rtPlan import RTPlan\n",
    "from opentps.core.io.scannerReader import readScanner\n",
    "from opentps.core.io.serializedObjectIO import loadRTPlan, saveRTPlan\n",
    "from opentps.core.io.dicomIO import readDicomPlan\n",
    "from opentps.core.io.dataLoader import readData\n",
    "from opentps.core.data.CTCalibrations.MCsquareCalibration._mcsquareCTCalibration import MCsquareCTCalibration\n",
    "from opentps.core.io import mcsquareIO\n",
    "from opentps.core.data._dvh import DVH\n",
    "from opentps.core.processing.doseCalculation.doseCalculationConfig import DoseCalculationConfig\n",
    "from opentps.core.processing.doseCalculation.mcsquareDoseCalculator import MCsquareDoseCalculator\n",
    "from opentps.core.io.mhdIO import exportImageMHD\n",
    "from opentps.core.data.plan._planIonBeam import PlanIonBeam\n",
    "from opentps.core.data.plan._planIonLayer import PlanIonLayer\n",
    "from opentps.core.data.images._ctImage import CTImage\n",
    "from opentps.core.data._rtStruct import RTStruct"
   ]
  },
  {
   "cell_type": "markdown",
   "metadata": {},
   "source": [
    "### Create plan from scratch"
   ]
  },
  {
   "cell_type": "code",
   "execution_count": 9,
   "metadata": {
    "ExecuteTime": {
     "end_time": "2023-08-07T16:10:19.508462100Z",
     "start_time": "2023-08-07T16:10:19.459269500Z"
    }
   },
   "outputs": [],
   "source": [
    "plan = RTPlan()\n",
    "plan.appendBeam(PlanIonBeam())\n",
    "plan.appendBeam(PlanIonBeam())\n",
    "plan.beams[1].gantryAngle = 120.\n",
    "plan.beams[0].appendLayer(PlanIonLayer(100))\n",
    "plan.beams[0].appendLayer(PlanIonLayer(90))\n",
    "plan.beams[1].appendLayer(PlanIonLayer(80))\n",
    "plan[0].layers[0].appendSpot([-1,0,1], [1,2,3], [0.1,0.2,0.3])\n",
    "plan[0].layers[1].appendSpot([0,1], [2,3], [0.2,0.3])\n",
    "plan[1].layers[0].appendSpot(1, 1, 0.5)\n",
    "# Save plan\n",
    "saveRTPlan(plan,'test_plan.tps')"
   ]
  },
  {
   "cell_type": "markdown",
   "metadata": {},
   "source": [
    "Load plan in OpenTPS format (serialized)"
   ]
  },
  {
   "cell_type": "code",
   "execution_count": 10,
   "metadata": {
    "ExecuteTime": {
     "end_time": "2023-08-07T16:10:19.588342700Z",
     "start_time": "2023-08-07T16:10:19.492825700Z"
    }
   },
   "outputs": [
    {
     "name": "stdout",
     "output_type": "stream",
     "text": [
      "[0.2 0.3]\n",
      "[0.2 0.3]\n",
      "ERROR: Conventional radiotherapy (photon) plans are not supported\n"
     ]
    }
   ],
   "source": [
    "plan2 = loadRTPlan('test_plan.tps')\n",
    "print(plan2[0].layers[1].spotWeights)\n",
    "print(plan[0].layers[1].spotWeights)\n",
    "plan_path = r\"/home/romain/dataset_testing/BREAST_01_003/BH/RTPLAN.237435.dcm\"\n",
    "plan3 = readDicomPlan(plan_path)"
   ]
  },
  {
   "cell_type": "markdown",
   "metadata": {},
   "source": [
    "### Dose computation from plan\n",
    "\n",
    "choosing default scanner and BDL"
   ]
  },
  {
   "cell_type": "code",
   "execution_count": 11,
   "metadata": {
    "ExecuteTime": {
     "end_time": "2023-08-07T16:10:22.743152100Z",
     "start_time": "2023-08-07T16:10:19.588342700Z"
    }
   },
   "outputs": [
    {
     "name": "stdout",
     "output_type": "stream",
     "text": [
      "/home/romain/dataset_testing/BREAST_01_003/BH/CT.101202.dcm\n",
      "/home/romain/dataset_testing/BREAST_01_003\n",
      "/home/romain/dataset_testing/BREAST_01_003/BH/CT.115929.dcm\n",
      "/home/romain/dataset_testing/BREAST_01_003\n",
      "/home/romain/dataset_testing/BREAST_01_003/BH/CT.116979.dcm\n",
      "/home/romain/dataset_testing/BREAST_01_003\n",
      "/home/romain/dataset_testing/BREAST_01_003/BH/CT.120457.dcm\n",
      "/home/romain/dataset_testing/BREAST_01_003\n",
      "/home/romain/dataset_testing/BREAST_01_003/BH/CT.132898.dcm\n",
      "/home/romain/dataset_testing/BREAST_01_003\n",
      "/home/romain/dataset_testing/BREAST_01_003/BH/CT.142838.dcm\n",
      "/home/romain/dataset_testing/BREAST_01_003\n",
      "/home/romain/dataset_testing/BREAST_01_003/BH/CT.146044.dcm\n",
      "/home/romain/dataset_testing/BREAST_01_003\n",
      "/home/romain/dataset_testing/BREAST_01_003/BH/CT.153029.dcm\n",
      "/home/romain/dataset_testing/BREAST_01_003\n",
      "/home/romain/dataset_testing/BREAST_01_003/BH/CT.158568.dcm\n",
      "/home/romain/dataset_testing/BREAST_01_003\n",
      "/home/romain/dataset_testing/BREAST_01_003/BH/CT.163110.dcm\n",
      "/home/romain/dataset_testing/BREAST_01_003\n",
      "/home/romain/dataset_testing/BREAST_01_003/BH/CT.164025.dcm\n",
      "/home/romain/dataset_testing/BREAST_01_003\n",
      "/home/romain/dataset_testing/BREAST_01_003/BH/CT.166881.dcm\n",
      "/home/romain/dataset_testing/BREAST_01_003\n",
      "/home/romain/dataset_testing/BREAST_01_003/BH/CT.170075.dcm\n",
      "/home/romain/dataset_testing/BREAST_01_003\n",
      "/home/romain/dataset_testing/BREAST_01_003/BH/CT.204234.dcm\n",
      "/home/romain/dataset_testing/BREAST_01_003\n",
      "/home/romain/dataset_testing/BREAST_01_003/BH/CT.213026.dcm\n",
      "/home/romain/dataset_testing/BREAST_01_003\n",
      "/home/romain/dataset_testing/BREAST_01_003/BH/CT.238203.dcm\n",
      "/home/romain/dataset_testing/BREAST_01_003\n",
      "/home/romain/dataset_testing/BREAST_01_003/BH/CT.239362.dcm\n",
      "/home/romain/dataset_testing/BREAST_01_003\n",
      "/home/romain/dataset_testing/BREAST_01_003/BH/CT.241729.dcm\n",
      "/home/romain/dataset_testing/BREAST_01_003\n",
      "/home/romain/dataset_testing/BREAST_01_003/BH/CT.258804.dcm\n",
      "/home/romain/dataset_testing/BREAST_01_003\n",
      "/home/romain/dataset_testing/BREAST_01_003/BH/CT.270495.dcm\n",
      "/home/romain/dataset_testing/BREAST_01_003\n",
      "/home/romain/dataset_testing/BREAST_01_003/BH/CT.271464.dcm\n",
      "/home/romain/dataset_testing/BREAST_01_003\n",
      "/home/romain/dataset_testing/BREAST_01_003/BH/CT.275219.dcm\n",
      "/home/romain/dataset_testing/BREAST_01_003\n",
      "/home/romain/dataset_testing/BREAST_01_003/BH/CT.287268.dcm\n",
      "/home/romain/dataset_testing/BREAST_01_003\n",
      "/home/romain/dataset_testing/BREAST_01_003/BH/CT.290615.dcm\n",
      "/home/romain/dataset_testing/BREAST_01_003\n",
      "/home/romain/dataset_testing/BREAST_01_003/BH/CT.314900.dcm\n",
      "/home/romain/dataset_testing/BREAST_01_003\n",
      "/home/romain/dataset_testing/BREAST_01_003/BH/CT.315445.dcm\n",
      "/home/romain/dataset_testing/BREAST_01_003\n",
      "/home/romain/dataset_testing/BREAST_01_003/BH/CT.327444.dcm\n",
      "/home/romain/dataset_testing/BREAST_01_003\n",
      "/home/romain/dataset_testing/BREAST_01_003/BH/CT.340592.dcm\n",
      "/home/romain/dataset_testing/BREAST_01_003\n",
      "/home/romain/dataset_testing/BREAST_01_003/BH/CT.355076.dcm\n",
      "/home/romain/dataset_testing/BREAST_01_003\n",
      "/home/romain/dataset_testing/BREAST_01_003/BH/CT.365785.dcm\n",
      "/home/romain/dataset_testing/BREAST_01_003\n",
      "/home/romain/dataset_testing/BREAST_01_003/BH/CT.376776.dcm\n",
      "/home/romain/dataset_testing/BREAST_01_003\n",
      "/home/romain/dataset_testing/BREAST_01_003/BH/CT.378433.dcm\n",
      "/home/romain/dataset_testing/BREAST_01_003\n",
      "/home/romain/dataset_testing/BREAST_01_003/BH/CT.381443.dcm\n",
      "/home/romain/dataset_testing/BREAST_01_003\n",
      "/home/romain/dataset_testing/BREAST_01_003/BH/CT.390230.dcm\n",
      "/home/romain/dataset_testing/BREAST_01_003\n",
      "/home/romain/dataset_testing/BREAST_01_003/BH/CT.406058.dcm\n",
      "/home/romain/dataset_testing/BREAST_01_003\n",
      "/home/romain/dataset_testing/BREAST_01_003/BH/CT.412588.dcm\n",
      "/home/romain/dataset_testing/BREAST_01_003\n",
      "/home/romain/dataset_testing/BREAST_01_003/BH/CT.412711.dcm\n",
      "/home/romain/dataset_testing/BREAST_01_003\n",
      "/home/romain/dataset_testing/BREAST_01_003/BH/CT.414782.dcm\n",
      "/home/romain/dataset_testing/BREAST_01_003\n",
      "/home/romain/dataset_testing/BREAST_01_003/BH/CT.441299.dcm\n",
      "/home/romain/dataset_testing/BREAST_01_003\n",
      "/home/romain/dataset_testing/BREAST_01_003/BH/CT.449240.dcm\n",
      "/home/romain/dataset_testing/BREAST_01_003\n",
      "/home/romain/dataset_testing/BREAST_01_003/BH/CT.450007.dcm\n",
      "/home/romain/dataset_testing/BREAST_01_003\n",
      "/home/romain/dataset_testing/BREAST_01_003/BH/CT.480904.dcm\n",
      "/home/romain/dataset_testing/BREAST_01_003\n",
      "/home/romain/dataset_testing/BREAST_01_003/BH/CT.494205.dcm\n",
      "/home/romain/dataset_testing/BREAST_01_003\n",
      "/home/romain/dataset_testing/BREAST_01_003/BH/CT.495700.dcm\n",
      "/home/romain/dataset_testing/BREAST_01_003\n",
      "/home/romain/dataset_testing/BREAST_01_003/BH/CT.515260.dcm\n",
      "/home/romain/dataset_testing/BREAST_01_003\n",
      "/home/romain/dataset_testing/BREAST_01_003/BH/CT.560193.dcm\n",
      "/home/romain/dataset_testing/BREAST_01_003\n",
      "/home/romain/dataset_testing/BREAST_01_003/BH/CT.571243.dcm\n",
      "/home/romain/dataset_testing/BREAST_01_003\n",
      "/home/romain/dataset_testing/BREAST_01_003/BH/CT.581111.dcm\n",
      "/home/romain/dataset_testing/BREAST_01_003\n",
      "/home/romain/dataset_testing/BREAST_01_003/BH/CT.588503.dcm\n",
      "/home/romain/dataset_testing/BREAST_01_003\n",
      "/home/romain/dataset_testing/BREAST_01_003/BH/CT.605234.dcm\n",
      "/home/romain/dataset_testing/BREAST_01_003\n",
      "/home/romain/dataset_testing/BREAST_01_003/BH/CT.622248.dcm\n",
      "/home/romain/dataset_testing/BREAST_01_003\n",
      "/home/romain/dataset_testing/BREAST_01_003/BH/CT.644185.dcm\n",
      "/home/romain/dataset_testing/BREAST_01_003\n",
      "/home/romain/dataset_testing/BREAST_01_003/BH/CT.647258.dcm\n",
      "/home/romain/dataset_testing/BREAST_01_003\n",
      "/home/romain/dataset_testing/BREAST_01_003/BH/CT.665892.dcm\n",
      "/home/romain/dataset_testing/BREAST_01_003\n",
      "/home/romain/dataset_testing/BREAST_01_003/BH/CT.668664.dcm\n",
      "/home/romain/dataset_testing/BREAST_01_003\n",
      "/home/romain/dataset_testing/BREAST_01_003/BH/CT.691871.dcm\n",
      "/home/romain/dataset_testing/BREAST_01_003\n",
      "/home/romain/dataset_testing/BREAST_01_003/BH/CT.704643.dcm\n",
      "/home/romain/dataset_testing/BREAST_01_003\n",
      "/home/romain/dataset_testing/BREAST_01_003/BH/CT.718619.dcm\n",
      "/home/romain/dataset_testing/BREAST_01_003\n",
      "/home/romain/dataset_testing/BREAST_01_003/BH/CT.726082.dcm\n",
      "/home/romain/dataset_testing/BREAST_01_003\n",
      "/home/romain/dataset_testing/BREAST_01_003/BH/CT.732525.dcm\n",
      "/home/romain/dataset_testing/BREAST_01_003\n",
      "/home/romain/dataset_testing/BREAST_01_003/BH/CT.739195.dcm\n",
      "/home/romain/dataset_testing/BREAST_01_003\n",
      "/home/romain/dataset_testing/BREAST_01_003/BH/CT.745430.dcm\n",
      "/home/romain/dataset_testing/BREAST_01_003\n",
      "/home/romain/dataset_testing/BREAST_01_003/BH/CT.747865.dcm\n",
      "/home/romain/dataset_testing/BREAST_01_003\n",
      "/home/romain/dataset_testing/BREAST_01_003/BH/CT.748887.dcm\n",
      "/home/romain/dataset_testing/BREAST_01_003\n",
      "/home/romain/dataset_testing/BREAST_01_003/BH/CT.790506.dcm\n",
      "/home/romain/dataset_testing/BREAST_01_003\n",
      "/home/romain/dataset_testing/BREAST_01_003/BH/CT.803293.dcm\n",
      "/home/romain/dataset_testing/BREAST_01_003\n",
      "/home/romain/dataset_testing/BREAST_01_003/BH/CT.804142.dcm\n",
      "/home/romain/dataset_testing/BREAST_01_003\n",
      "/home/romain/dataset_testing/BREAST_01_003/BH/CT.805136.dcm\n",
      "/home/romain/dataset_testing/BREAST_01_003\n",
      "/home/romain/dataset_testing/BREAST_01_003/BH/CT.808220.dcm\n",
      "/home/romain/dataset_testing/BREAST_01_003\n",
      "/home/romain/dataset_testing/BREAST_01_003/BH/CT.813404.dcm\n",
      "/home/romain/dataset_testing/BREAST_01_003\n",
      "/home/romain/dataset_testing/BREAST_01_003/BH/CT.827675.dcm\n",
      "/home/romain/dataset_testing/BREAST_01_003\n",
      "/home/romain/dataset_testing/BREAST_01_003/BH/CT.833458.dcm\n",
      "/home/romain/dataset_testing/BREAST_01_003\n",
      "/home/romain/dataset_testing/BREAST_01_003/BH/CT.855155.dcm\n",
      "/home/romain/dataset_testing/BREAST_01_003\n",
      "/home/romain/dataset_testing/BREAST_01_003/BH/CT.860346.dcm\n",
      "/home/romain/dataset_testing/BREAST_01_003\n",
      "/home/romain/dataset_testing/BREAST_01_003/BH/CT.892881.dcm\n",
      "/home/romain/dataset_testing/BREAST_01_003\n",
      "/home/romain/dataset_testing/BREAST_01_003/BH/CT.919410.dcm\n",
      "/home/romain/dataset_testing/BREAST_01_003\n",
      "/home/romain/dataset_testing/BREAST_01_003/BH/CT.922872.dcm\n",
      "/home/romain/dataset_testing/BREAST_01_003\n",
      "/home/romain/dataset_testing/BREAST_01_003/BH/CT.928400.dcm\n",
      "/home/romain/dataset_testing/BREAST_01_003\n",
      "/home/romain/dataset_testing/BREAST_01_003/BH/CT.939100.dcm\n",
      "/home/romain/dataset_testing/BREAST_01_003\n",
      "/home/romain/dataset_testing/BREAST_01_003/BH/CT.942622.dcm\n",
      "/home/romain/dataset_testing/BREAST_01_003\n"
     ]
    },
    {
     "name": "stderr",
     "output_type": "stream",
     "text": [
      "--- Logging error ---\n",
      "Traceback (most recent call last):\n",
      "  File \"/home/romain/miniconda3/envs/OpenTPS/lib/python3.11/logging/__init__.py\", line 1110, in emit\n",
      "    msg = self.format(record)\n",
      "          ^^^^^^^^^^^^^^^^^^^\n",
      "  File \"/home/romain/miniconda3/envs/OpenTPS/lib/python3.11/logging/__init__.py\", line 953, in format\n",
      "    return fmt.format(record)\n",
      "           ^^^^^^^^^^^^^^^^^^\n",
      "  File \"/home/romain/miniconda3/envs/OpenTPS/lib/python3.11/logging/__init__.py\", line 687, in format\n",
      "    record.message = record.getMessage()\n",
      "                     ^^^^^^^^^^^^^^^^^^^\n",
      "  File \"/home/romain/miniconda3/envs/OpenTPS/lib/python3.11/logging/__init__.py\", line 377, in getMessage\n",
      "    msg = msg % self.args\n",
      "          ~~~~^~~~~~~~~~~\n",
      "TypeError: not all arguments converted during string formatting\n",
      "Call stack:\n",
      "  File \"<frozen runpy>\", line 198, in _run_module_as_main\n",
      "  File \"<frozen runpy>\", line 88, in _run_code\n",
      "  File \"/home/romain/miniconda3/envs/OpenTPS/lib/python3.11/site-packages/ipykernel_launcher.py\", line 17, in <module>\n",
      "    app.launch_new_instance()\n",
      "  File \"/home/romain/miniconda3/envs/OpenTPS/lib/python3.11/site-packages/traitlets/config/application.py\", line 992, in launch_instance\n",
      "    app.start()\n",
      "  File \"/home/romain/miniconda3/envs/OpenTPS/lib/python3.11/site-packages/ipykernel/kernelapp.py\", line 736, in start\n",
      "    self.io_loop.start()\n",
      "  File \"/home/romain/miniconda3/envs/OpenTPS/lib/python3.11/site-packages/tornado/platform/asyncio.py\", line 195, in start\n",
      "    self.asyncio_loop.run_forever()\n",
      "  File \"/home/romain/miniconda3/envs/OpenTPS/lib/python3.11/asyncio/base_events.py\", line 607, in run_forever\n",
      "    self._run_once()\n",
      "  File \"/home/romain/miniconda3/envs/OpenTPS/lib/python3.11/asyncio/base_events.py\", line 1922, in _run_once\n",
      "    handle._run()\n",
      "  File \"/home/romain/miniconda3/envs/OpenTPS/lib/python3.11/asyncio/events.py\", line 80, in _run\n",
      "    self._context.run(self._callback, *self._args)\n",
      "  File \"/home/romain/miniconda3/envs/OpenTPS/lib/python3.11/site-packages/ipykernel/kernelbase.py\", line 516, in dispatch_queue\n",
      "    await self.process_one()\n",
      "  File \"/home/romain/miniconda3/envs/OpenTPS/lib/python3.11/site-packages/ipykernel/kernelbase.py\", line 505, in process_one\n",
      "    await dispatch(*args)\n",
      "  File \"/home/romain/miniconda3/envs/OpenTPS/lib/python3.11/site-packages/ipykernel/kernelbase.py\", line 412, in dispatch_shell\n",
      "    await result\n",
      "  File \"/home/romain/miniconda3/envs/OpenTPS/lib/python3.11/site-packages/ipykernel/kernelbase.py\", line 740, in execute_request\n",
      "    reply_content = await reply_content\n",
      "  File \"/home/romain/miniconda3/envs/OpenTPS/lib/python3.11/site-packages/ipykernel/ipkernel.py\", line 422, in do_execute\n",
      "    res = shell.run_cell(\n",
      "  File \"/home/romain/miniconda3/envs/OpenTPS/lib/python3.11/site-packages/ipykernel/zmqshell.py\", line 546, in run_cell\n",
      "    return super().run_cell(*args, **kwargs)\n",
      "  File \"/home/romain/miniconda3/envs/OpenTPS/lib/python3.11/site-packages/IPython/core/interactiveshell.py\", line 3006, in run_cell\n",
      "    result = self._run_cell(\n",
      "  File \"/home/romain/miniconda3/envs/OpenTPS/lib/python3.11/site-packages/IPython/core/interactiveshell.py\", line 3061, in _run_cell\n",
      "    result = runner(coro)\n",
      "  File \"/home/romain/miniconda3/envs/OpenTPS/lib/python3.11/site-packages/IPython/core/async_helpers.py\", line 129, in _pseudo_sync_runner\n",
      "    coro.send(None)\n",
      "  File \"/home/romain/miniconda3/envs/OpenTPS/lib/python3.11/site-packages/IPython/core/interactiveshell.py\", line 3266, in run_cell_async\n",
      "    has_raised = await self.run_ast_nodes(code_ast.body, cell_name,\n",
      "  File \"/home/romain/miniconda3/envs/OpenTPS/lib/python3.11/site-packages/IPython/core/interactiveshell.py\", line 3445, in run_ast_nodes\n",
      "    if await self.run_code(code, result, async_=asy):\n",
      "  File \"/home/romain/miniconda3/envs/OpenTPS/lib/python3.11/site-packages/IPython/core/interactiveshell.py\", line 3505, in run_code\n",
      "    exec(code_obj, self.user_global_ns, self.user_ns)\n",
      "  File \"/tmp/ipykernel_704772/696531189.py\", line 6, in <module>\n",
      "    dataList = readData(ctImagePath, maxDepth=0)\n",
      "  File \"/home/romain/opentps/opentps_core/opentps/core/io/dataLoader.py\", line 148, in readData\n",
      "    logging.warning(\"WARNING: cannot import \", filePath, \" because photon RT plan is not implemented yet\")\n",
      "Message: 'WARNING: cannot import '\n",
      "Arguments: ('/home/romain/dataset_testing/BREAST_01_003/BH/RTPLAN.237435.dcm', ' because photon RT plan is not implemented yet')\n"
     ]
    }
   ],
   "source": [
    "doseCalculator = MCsquareDoseCalculator()\n",
    "doseCalculator.ctCalibration = readScanner(DoseCalculationConfig().scannerFolder)\n",
    "doseCalculator.beamModel = mcsquareIO.readBDL(DoseCalculationConfig().bdlFile)\n",
    "doseCalculator.nbPrimaries = 1e7\n",
    "ctImagePath = r'/home/romain/dataset_testing/BREAST_01_003/BH'\n",
    "dataList = readData(ctImagePath, maxDepth=0)\n",
    "ct = [d for d in dataList if isinstance(d, CTImage)][0]\n",
    "struct = [d for d in dataList if isinstance(d, RTStruct)][0]"
   ]
  },
  {
   "cell_type": "markdown",
   "metadata": {},
   "source": [
    "If we want to crop the CT to the body contour (set everything else to -1024)"
   ]
  },
  {
   "cell_type": "code",
   "execution_count": 12,
   "metadata": {
    "ExecuteTime": {
     "end_time": "2023-08-07T16:10:22.758745800Z",
     "start_time": "2023-08-07T16:10:22.743152100Z"
    }
   },
   "outputs": [
    {
     "name": "stdout",
     "output_type": "stream",
     "text": [
      "\n",
      "RT Struct UID: 1.2.752.243.1.1.20200901124047710.1900.27273.1\n",
      "  [0]  patient\n",
      "  [1]  A_Coronary\n",
      "  [2]  Heart\n",
      "  [3]  lung_L\n",
      "  [4]  lung_R\n",
      "  [5]  CTVp_breast L\n",
      "  [6]  SpinalCord\n",
      "  [7]  HumeralHead_L\n",
      "  [8]  CTVp_tumourbed L\n",
      "  [9]  Lungs\n",
      "  [10]  PTVp_Breast_L\n",
      "  [11]  PTV_boost_L\n",
      "  [12]  Stomach\n",
      "  [13]  Breast_R\n",
      "  [14]  ETV_Robust\n",
      "  [15]  External\n",
      "  [16]  Carbon Fiber\n",
      "  [17]  bloc deform\n",
      "  [18]  105\n",
      "  [19]  min\n",
      "  [20]  ROI_4575.0_1\n",
      "  [21]  95\n",
      "  [22]  ref\n",
      "  [23]  ISO\n",
      "  [24]  DSP\n",
      "  [25]  DSP45.75\n",
      "  [26]  POI_4575.0_1\n",
      "No contour with name salade found in the list of contours\n"
     ]
    }
   ],
   "source": [
    "contour_name = 'patient salade'\n",
    "struct.print_ROINames()\n",
    "body_contour = struct.getContourByName(contour_name)\n",
    "doseCalculator.overwriteOutsideROI = body_contour[0]"
   ]
  },
  {
   "cell_type": "markdown",
   "metadata": {},
   "source": [
    "MC square simulation and Dose exportation"
   ]
  },
  {
   "cell_type": "code",
   "execution_count": 13,
   "metadata": {
    "ExecuteTime": {
     "end_time": "2023-08-07T16:11:56.428747800Z",
     "start_time": "2023-08-07T16:10:22.758745800Z"
    }
   },
   "outputs": [
    {
     "name": "stdout",
     "output_type": "stream",
     "text": [
      "07/08/2023 06:10:23 PM - opentps.core.processing.doseCalculation.mcsquareDoseCalculator - INFO - Prepare MCsquare Dose calculation\n",
      "07/08/2023 06:10:23 PM - opentps.core.io.mcsquareIO - INFO - Cropping CT around patient\n",
      "07/08/2023 06:10:24 PM - opentps.core.io.mhdIO - INFO - Write MHD file: /home/romain/openTPS_workspace/Simulations/MCsquare_simulation/CT.mhd\n",
      "07/08/2023 06:10:24 PM - opentps.core.io.mcsquareIO - INFO - Write plan: /home/romain/openTPS_workspace/Simulations/MCsquare_simulation/PlanPencil.txt\n",
      "07/08/2023 06:10:25 PM - opentps.core.processing.doseCalculation.mcsquareDoseCalculator - INFO - Start MCsquare simulation\n"
     ]
    },
    {
     "name": "stderr",
     "output_type": "stream",
     "text": [
      "MCsquare: 7: [: Linux: unexpected operator\n"
     ]
    },
    {
     "name": "stdout",
     "output_type": "stream",
     "text": [
      "\n",
      " Warning: Unknown tag \"Optimization_Mode\" in \"config.txt\"\n",
      "\n",
      "\n",
      "Initialization time: 0.685358 s \n",
      "\n",
      "\n",
      "Simulation started (2023-08-07 18:10:25) \n",
      " 10.0 % \n",
      " 20.0 % \n",
      " 30.0 % \n",
      " 40.0 % \n",
      " 50.0 % (stat uncertainty: 0.37 %) \n",
      " 60.0 % (stat uncertainty: 0.35 %) \n",
      " 70.0 % (stat uncertainty: 0.34 %) \n",
      " 80.0 % (stat uncertainty: 0.32 %) \n",
      " 90.0 % (stat uncertainty: 0.31 %) \n",
      " 100.0 % (stat uncertainty: 0.29 %) \n",
      "\n",
      "Nbr primaries simulated: 10000000 \n",
      "MC computation time: 90.900472 s \n",
      "Output computation time: 0.107685 s \n",
      "\n",
      "Total computation time: 91.709478 s \n",
      "07/08/2023 06:11:57 PM - opentps.core.io.mhdIO - INFO - Write MHD file: /home/romain/doseCal.mhd\n"
     ]
    }
   ],
   "source": [
    "doseImage = doseCalculator.computeDose(ct, plan)\n",
    "exportImageMHD(r'/home/romain/doseCal', doseImage)"
   ]
  },
  {
   "cell_type": "markdown",
   "metadata": {},
   "source": [
    "DVH"
   ]
  },
  {
   "cell_type": "code",
   "execution_count": 25,
   "metadata": {
    "ExecuteTime": {
     "end_time": "2023-08-07T16:21:57.795758100Z",
     "start_time": "2023-08-07T16:21:56.846981600Z"
    }
   },
   "outputs": [
    {
     "name": "stdout",
     "output_type": "stream",
     "text": [
      "[<opentps.core.data._roiContour.ROIContour object at 0x7f278da35050>]\n",
      "D95 0.03662109375\n",
      "D5 0.03662109375\n",
      "Dmax 0.00012169612\n",
      "Dmin 0.0\n"
     ]
    },
    {
     "data": {
      "text/plain": "<matplotlib.image.AxesImage at 0x7f277efd8410>"
     },
     "execution_count": 25,
     "metadata": {},
     "output_type": "execute_result"
    },
    {
     "data": {
      "text/plain": "<Figure size 640x480 with 1 Axes>",
      "image/png": "[encoded data removed]"
     },
     "metadata": {},
     "output_type": "display_data"
    }
   ],
   "source": [
    "target_name = 'PTVp_Breast_L'\n",
    "target_contour = struct.getContourByName(target_name)\n",
    "print(target_contour)\n",
    "dvh = DVH(target_contour[0], doseImage)\n",
    "print(\"D95\",dvh._D95)\n",
    "print(\"D5\",dvh._D5)\n",
    "print(\"Dmax\",dvh._Dmax)\n",
    "print(\"Dmin\",dvh._Dmin)\n",
    "sliceLoc = 50\n",
    "plt.imshow(ct.imageArray[:,:,sliceLoc],cmap='gray')\n",
    "plt.imshow(target_contour[0].getBinaryMask(origin= ct.origin,gridSize= ct.gridSize,spacing=ct.spacing).imageArray[:,:,sliceLoc],alpha =.8)"
   ]
  },
  {
   "cell_type": "code",
   "execution_count": 16,
   "outputs": [],
   "source": [],
   "metadata": {
    "collapsed": false,
    "ExecuteTime": {
     "end_time": "2023-08-07T16:12:47.034951100Z",
     "start_time": "2023-08-07T16:12:46.988074900Z"
    }
   }
  },
  {
   "cell_type": "code",
   "execution_count": null,
   "outputs": [],
   "source": [],
   "metadata": {
    "collapsed": false
   }
  }
 ],
 "metadata": {
  "kernelspec": {
   "display_name": "OpenTPS",
   "language": "python",
   "name": "python3"
  },
  "language_info": {
   "codemirror_mode": {
    "name": "ipython",
    "version": 3
   },
   "file_extension": ".py",
   "mimetype": "text/x-python",
   "name": "python",
   "nbconvert_exporter": "python",
   "pygments_lexer": "ipython3",
   "version": "3.9.16"
  },
  "orig_nbformat": 4
 },
 "nbformat": 4,
 "nbformat_minor": 2
}
