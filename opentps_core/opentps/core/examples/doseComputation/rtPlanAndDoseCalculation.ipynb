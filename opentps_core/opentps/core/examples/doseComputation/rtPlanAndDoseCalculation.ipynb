{
 "cells": [
  {
   "cell_type": "markdown",
   "metadata": {},
   "source": [
    "## RT Plan and dose calculation"
   ]
  },
  {
   "cell_type": "code",
<<<<<<< HEAD
   "execution_count": 7,
   "metadata": {},
   "outputs": [],
=======
   "execution_count": 1,
   "metadata": {},
   "outputs": [
    {
     "name": "stdout",
     "output_type": "stream",
     "text": [
      "24/07/2023 12:09:10 PM - root - INFO - Loading logging configuration: C:\\Users\\romai\\OneDrive - UCL\\Job MIRO\\OpenTPS\\opentps\\opentps_core\\opentps\\core\\config\\logger\\logging_config.json\n",
      "24/07/2023 12:09:10 PM - opentps.core._loggingConfig - INFO - Log level set: INFO\n",
      "24/07/2023 12:09:12 PM - opentps.core.processing.imageProcessing.cupyImageProcessing - WARNING - Cannot import Cupy module\n",
      "24/07/2023 12:09:13 PM - opentps.core.processing.registration.registrationMorphons - WARNING - cupy not found.\n",
      "24/07/2023 12:09:13 PM - opentps.core.processing.C_libraries.libInterp3_wrapper - WARNING - cupy not found.\n"
     ]
    }
   ],
>>>>>>> 688dedc8425a07051e355b5798ec0de1b3c90e7e
   "source": [
    "import os\n",
    "\n",
    "from opentps.core.data.plan._rtPlan import RTPlan\n",
    "from opentps.core.io.scannerReader import readScanner\n",
    "from opentps.core.io.serializedObjectIO import loadRTPlan, saveRTPlan\n",
    "from opentps.core.io.dicomIO import readDicomPlan\n",
    "from opentps.core.io.dataLoader import readData\n",
    "from opentps.core.data.CTCalibrations.MCsquareCalibration._mcsquareCTCalibration import MCsquareCTCalibration\n",
    "from opentps.core.io import mcsquareIO\n",
    "from opentps.core.data._dvh import DVH\n",
    "from opentps.core.processing.doseCalculation.doseCalculationConfig import DoseCalculationConfig\n",
    "from opentps.core.processing.doseCalculation.mcsquareDoseCalculator import MCsquareDoseCalculator\n",
    "from opentps.core.io.mhdIO import exportImageMHD\n",
    "from opentps.core.data.plan._planIonBeam import PlanIonBeam\n",
    "from opentps.core.data.plan._planIonLayer import PlanIonLayer\n",
    "from opentps.core.data.images._ctImage import CTImage\n",
    "from opentps.core.data._rtStruct import RTStruct"
   ]
  },
  {
   "cell_type": "markdown",
   "metadata": {},
   "source": [
    "### Create plan from scratch"
   ]
  },
  {
   "cell_type": "code",
<<<<<<< HEAD
   "execution_count": 8,
=======
   "execution_count": 2,
>>>>>>> 688dedc8425a07051e355b5798ec0de1b3c90e7e
   "metadata": {},
   "outputs": [],
   "source": [
    "plan = RTPlan()\n",
    "plan.appendBeam(PlanIonBeam())\n",
    "plan.appendBeam(PlanIonBeam())\n",
    "plan.beams[1].gantryAngle = 120.\n",
    "plan.beams[0].appendLayer(PlanIonLayer(100))\n",
    "plan.beams[0].appendLayer(PlanIonLayer(90))\n",
    "plan.beams[1].appendLayer(PlanIonLayer(80))\n",
    "plan[0].layers[0].appendSpot([-1,0,1], [1,2,3], [0.1,0.2,0.3])\n",
    "plan[0].layers[1].appendSpot([0,1], [2,3], [0.2,0.3])\n",
    "plan[1].layers[0].appendSpot(1, 1, 0.5)\n",
    "# Save plan\n",
    "saveRTPlan(plan,'test_plan.tps')"
   ]
  },
  {
   "cell_type": "markdown",
   "metadata": {},
   "source": [
    "Load plan in OpenTPS format (serialized)"
   ]
  },
  {
   "cell_type": "code",
<<<<<<< HEAD
   "execution_count": 9,
=======
   "execution_count": 3,
>>>>>>> 688dedc8425a07051e355b5798ec0de1b3c90e7e
   "metadata": {},
   "outputs": [
    {
     "name": "stdout",
     "output_type": "stream",
     "text": [
      "[0.2 0.3]\n",
      "[0.2 0.3]\n",
      "ERROR: Conventional radiotherapy (photon) plans are not supported\n"
     ]
    }
   ],
   "source": [
    "plan2 = loadRTPlan('test_plan.tps')\n",
    "print(plan2[0].layers[1].spotWeights)\n",
    "print(plan[0].layers[1].spotWeights)\n",
    "plan_path = r\"c:\\Users\\romai\\OneDrive - UCL\\Job MIRO\\OpenTPS\\dataset_testing\\BREAST_01_003\\BH\\RTPLAN.237435.dcm\"\n",
    "plan3 = readDicomPlan(plan_path)"
   ]
  },
  {
   "cell_type": "markdown",
   "metadata": {},
   "source": [
    "### Dose computation from plan\n",
    "\n",
    "choosing default scanner and BDL"
   ]
  },
  {
   "cell_type": "code",
<<<<<<< HEAD
   "execution_count": 10,
=======
   "execution_count": 4,
>>>>>>> 688dedc8425a07051e355b5798ec0de1b3c90e7e
   "metadata": {},
   "outputs": [
    {
     "name": "stdout",
     "output_type": "stream",
     "text": [
      "c:\\Users\\romai\\OneDrive - UCL\\Job MIRO\\OpenTPS\\dataset_testing\\BREAST_01_003\\BH\\CT.101202.dcm\n",
      "c:\\Users\\romai\\OneDrive - UCL\\Job MIRO\\OpenTPS\\dataset_testing\\BREAST_01_003\n",
      "c:\\Users\\romai\\OneDrive - UCL\\Job MIRO\\OpenTPS\\dataset_testing\\BREAST_01_003\\BH\\CT.115929.dcm\n",
      "c:\\Users\\romai\\OneDrive - UCL\\Job MIRO\\OpenTPS\\dataset_testing\\BREAST_01_003\n",
      "c:\\Users\\romai\\OneDrive - UCL\\Job MIRO\\OpenTPS\\dataset_testing\\BREAST_01_003\\BH\\CT.116979.dcm\n",
      "c:\\Users\\romai\\OneDrive - UCL\\Job MIRO\\OpenTPS\\dataset_testing\\BREAST_01_003\n",
      "c:\\Users\\romai\\OneDrive - UCL\\Job MIRO\\OpenTPS\\dataset_testing\\BREAST_01_003\\BH\\CT.120457.dcm\n",
      "c:\\Users\\romai\\OneDrive - UCL\\Job MIRO\\OpenTPS\\dataset_testing\\BREAST_01_003\n",
      "c:\\Users\\romai\\OneDrive - UCL\\Job MIRO\\OpenTPS\\dataset_testing\\BREAST_01_003\\BH\\CT.132898.dcm\n",
      "c:\\Users\\romai\\OneDrive - UCL\\Job MIRO\\OpenTPS\\dataset_testing\\BREAST_01_003\n",
      "c:\\Users\\romai\\OneDrive - UCL\\Job MIRO\\OpenTPS\\dataset_testing\\BREAST_01_003\\BH\\CT.142838.dcm\n",
      "c:\\Users\\romai\\OneDrive - UCL\\Job MIRO\\OpenTPS\\dataset_testing\\BREAST_01_003\n",
      "c:\\Users\\romai\\OneDrive - UCL\\Job MIRO\\OpenTPS\\dataset_testing\\BREAST_01_003\\BH\\CT.146044.dcm\n",
      "c:\\Users\\romai\\OneDrive - UCL\\Job MIRO\\OpenTPS\\dataset_testing\\BREAST_01_003\n",
      "c:\\Users\\romai\\OneDrive - UCL\\Job MIRO\\OpenTPS\\dataset_testing\\BREAST_01_003\\BH\\CT.153029.dcm\n",
      "c:\\Users\\romai\\OneDrive - UCL\\Job MIRO\\OpenTPS\\dataset_testing\\BREAST_01_003\n",
      "c:\\Users\\romai\\OneDrive - UCL\\Job MIRO\\OpenTPS\\dataset_testing\\BREAST_01_003\\BH\\CT.158568.dcm\n",
      "c:\\Users\\romai\\OneDrive - UCL\\Job MIRO\\OpenTPS\\dataset_testing\\BREAST_01_003\n",
      "c:\\Users\\romai\\OneDrive - UCL\\Job MIRO\\OpenTPS\\dataset_testing\\BREAST_01_003\\BH\\CT.163110.dcm\n",
      "c:\\Users\\romai\\OneDrive - UCL\\Job MIRO\\OpenTPS\\dataset_testing\\BREAST_01_003\n",
      "c:\\Users\\romai\\OneDrive - UCL\\Job MIRO\\OpenTPS\\dataset_testing\\BREAST_01_003\\BH\\CT.164025.dcm\n",
      "c:\\Users\\romai\\OneDrive - UCL\\Job MIRO\\OpenTPS\\dataset_testing\\BREAST_01_003\n",
      "c:\\Users\\romai\\OneDrive - UCL\\Job MIRO\\OpenTPS\\dataset_testing\\BREAST_01_003\\BH\\CT.166881.dcm\n",
      "c:\\Users\\romai\\OneDrive - UCL\\Job MIRO\\OpenTPS\\dataset_testing\\BREAST_01_003\n",
      "c:\\Users\\romai\\OneDrive - UCL\\Job MIRO\\OpenTPS\\dataset_testing\\BREAST_01_003\\BH\\CT.170075.dcm\n",
      "c:\\Users\\romai\\OneDrive - UCL\\Job MIRO\\OpenTPS\\dataset_testing\\BREAST_01_003\n",
      "c:\\Users\\romai\\OneDrive - UCL\\Job MIRO\\OpenTPS\\dataset_testing\\BREAST_01_003\\BH\\CT.204234.dcm\n",
      "c:\\Users\\romai\\OneDrive - UCL\\Job MIRO\\OpenTPS\\dataset_testing\\BREAST_01_003\n",
      "c:\\Users\\romai\\OneDrive - UCL\\Job MIRO\\OpenTPS\\dataset_testing\\BREAST_01_003\\BH\\CT.213026.dcm\n",
      "c:\\Users\\romai\\OneDrive - UCL\\Job MIRO\\OpenTPS\\dataset_testing\\BREAST_01_003\n",
      "c:\\Users\\romai\\OneDrive - UCL\\Job MIRO\\OpenTPS\\dataset_testing\\BREAST_01_003\\BH\\CT.238203.dcm\n",
      "c:\\Users\\romai\\OneDrive - UCL\\Job MIRO\\OpenTPS\\dataset_testing\\BREAST_01_003\n",
      "c:\\Users\\romai\\OneDrive - UCL\\Job MIRO\\OpenTPS\\dataset_testing\\BREAST_01_003\\BH\\CT.239362.dcm\n",
      "c:\\Users\\romai\\OneDrive - UCL\\Job MIRO\\OpenTPS\\dataset_testing\\BREAST_01_003\n",
      "c:\\Users\\romai\\OneDrive - UCL\\Job MIRO\\OpenTPS\\dataset_testing\\BREAST_01_003\\BH\\CT.241729.dcm\n",
      "c:\\Users\\romai\\OneDrive - UCL\\Job MIRO\\OpenTPS\\dataset_testing\\BREAST_01_003\n",
      "c:\\Users\\romai\\OneDrive - UCL\\Job MIRO\\OpenTPS\\dataset_testing\\BREAST_01_003\\BH\\CT.258804.dcm\n",
      "c:\\Users\\romai\\OneDrive - UCL\\Job MIRO\\OpenTPS\\dataset_testing\\BREAST_01_003\n",
      "c:\\Users\\romai\\OneDrive - UCL\\Job MIRO\\OpenTPS\\dataset_testing\\BREAST_01_003\\BH\\CT.270495.dcm\n",
      "c:\\Users\\romai\\OneDrive - UCL\\Job MIRO\\OpenTPS\\dataset_testing\\BREAST_01_003\n",
      "c:\\Users\\romai\\OneDrive - UCL\\Job MIRO\\OpenTPS\\dataset_testing\\BREAST_01_003\\BH\\CT.271464.dcm\n",
      "c:\\Users\\romai\\OneDrive - UCL\\Job MIRO\\OpenTPS\\dataset_testing\\BREAST_01_003\n",
      "c:\\Users\\romai\\OneDrive - UCL\\Job MIRO\\OpenTPS\\dataset_testing\\BREAST_01_003\\BH\\CT.275219.dcm\n",
      "c:\\Users\\romai\\OneDrive - UCL\\Job MIRO\\OpenTPS\\dataset_testing\\BREAST_01_003\n",
      "c:\\Users\\romai\\OneDrive - UCL\\Job MIRO\\OpenTPS\\dataset_testing\\BREAST_01_003\\BH\\CT.287268.dcm\n",
      "c:\\Users\\romai\\OneDrive - UCL\\Job MIRO\\OpenTPS\\dataset_testing\\BREAST_01_003\n",
      "c:\\Users\\romai\\OneDrive - UCL\\Job MIRO\\OpenTPS\\dataset_testing\\BREAST_01_003\\BH\\CT.290615.dcm\n",
      "c:\\Users\\romai\\OneDrive - UCL\\Job MIRO\\OpenTPS\\dataset_testing\\BREAST_01_003\n",
      "c:\\Users\\romai\\OneDrive - UCL\\Job MIRO\\OpenTPS\\dataset_testing\\BREAST_01_003\\BH\\CT.314900.dcm\n",
      "c:\\Users\\romai\\OneDrive - UCL\\Job MIRO\\OpenTPS\\dataset_testing\\BREAST_01_003\n",
      "c:\\Users\\romai\\OneDrive - UCL\\Job MIRO\\OpenTPS\\dataset_testing\\BREAST_01_003\\BH\\CT.315445.dcm\n",
      "c:\\Users\\romai\\OneDrive - UCL\\Job MIRO\\OpenTPS\\dataset_testing\\BREAST_01_003\n",
      "c:\\Users\\romai\\OneDrive - UCL\\Job MIRO\\OpenTPS\\dataset_testing\\BREAST_01_003\\BH\\CT.327444.dcm\n",
      "c:\\Users\\romai\\OneDrive - UCL\\Job MIRO\\OpenTPS\\dataset_testing\\BREAST_01_003\n",
      "c:\\Users\\romai\\OneDrive - UCL\\Job MIRO\\OpenTPS\\dataset_testing\\BREAST_01_003\\BH\\CT.340592.dcm\n",
      "c:\\Users\\romai\\OneDrive - UCL\\Job MIRO\\OpenTPS\\dataset_testing\\BREAST_01_003\n",
      "c:\\Users\\romai\\OneDrive - UCL\\Job MIRO\\OpenTPS\\dataset_testing\\BREAST_01_003\\BH\\CT.355076.dcm\n",
      "c:\\Users\\romai\\OneDrive - UCL\\Job MIRO\\OpenTPS\\dataset_testing\\BREAST_01_003\n",
      "c:\\Users\\romai\\OneDrive - UCL\\Job MIRO\\OpenTPS\\dataset_testing\\BREAST_01_003\\BH\\CT.365785.dcm\n",
      "c:\\Users\\romai\\OneDrive - UCL\\Job MIRO\\OpenTPS\\dataset_testing\\BREAST_01_003\n",
      "c:\\Users\\romai\\OneDrive - UCL\\Job MIRO\\OpenTPS\\dataset_testing\\BREAST_01_003\\BH\\CT.376776.dcm\n",
      "c:\\Users\\romai\\OneDrive - UCL\\Job MIRO\\OpenTPS\\dataset_testing\\BREAST_01_003\n",
      "c:\\Users\\romai\\OneDrive - UCL\\Job MIRO\\OpenTPS\\dataset_testing\\BREAST_01_003\\BH\\CT.378433.dcm\n",
      "c:\\Users\\romai\\OneDrive - UCL\\Job MIRO\\OpenTPS\\dataset_testing\\BREAST_01_003\n",
      "c:\\Users\\romai\\OneDrive - UCL\\Job MIRO\\OpenTPS\\dataset_testing\\BREAST_01_003\\BH\\CT.381443.dcm\n",
      "c:\\Users\\romai\\OneDrive - UCL\\Job MIRO\\OpenTPS\\dataset_testing\\BREAST_01_003\n",
      "c:\\Users\\romai\\OneDrive - UCL\\Job MIRO\\OpenTPS\\dataset_testing\\BREAST_01_003\\BH\\CT.390230.dcm\n",
      "c:\\Users\\romai\\OneDrive - UCL\\Job MIRO\\OpenTPS\\dataset_testing\\BREAST_01_003\n",
      "c:\\Users\\romai\\OneDrive - UCL\\Job MIRO\\OpenTPS\\dataset_testing\\BREAST_01_003\\BH\\CT.406058.dcm\n",
      "c:\\Users\\romai\\OneDrive - UCL\\Job MIRO\\OpenTPS\\dataset_testing\\BREAST_01_003\n",
      "c:\\Users\\romai\\OneDrive - UCL\\Job MIRO\\OpenTPS\\dataset_testing\\BREAST_01_003\\BH\\CT.412588.dcm\n",
      "c:\\Users\\romai\\OneDrive - UCL\\Job MIRO\\OpenTPS\\dataset_testing\\BREAST_01_003\n",
      "c:\\Users\\romai\\OneDrive - UCL\\Job MIRO\\OpenTPS\\dataset_testing\\BREAST_01_003\\BH\\CT.412711.dcm\n",
      "c:\\Users\\romai\\OneDrive - UCL\\Job MIRO\\OpenTPS\\dataset_testing\\BREAST_01_003\n",
      "c:\\Users\\romai\\OneDrive - UCL\\Job MIRO\\OpenTPS\\dataset_testing\\BREAST_01_003\\BH\\CT.414782.dcm\n",
      "c:\\Users\\romai\\OneDrive - UCL\\Job MIRO\\OpenTPS\\dataset_testing\\BREAST_01_003\n",
      "c:\\Users\\romai\\OneDrive - UCL\\Job MIRO\\OpenTPS\\dataset_testing\\BREAST_01_003\\BH\\CT.441299.dcm\n",
      "c:\\Users\\romai\\OneDrive - UCL\\Job MIRO\\OpenTPS\\dataset_testing\\BREAST_01_003\n",
      "c:\\Users\\romai\\OneDrive - UCL\\Job MIRO\\OpenTPS\\dataset_testing\\BREAST_01_003\\BH\\CT.449240.dcm\n",
      "c:\\Users\\romai\\OneDrive - UCL\\Job MIRO\\OpenTPS\\dataset_testing\\BREAST_01_003\n",
      "c:\\Users\\romai\\OneDrive - UCL\\Job MIRO\\OpenTPS\\dataset_testing\\BREAST_01_003\\BH\\CT.450007.dcm\n",
      "c:\\Users\\romai\\OneDrive - UCL\\Job MIRO\\OpenTPS\\dataset_testing\\BREAST_01_003\n",
      "c:\\Users\\romai\\OneDrive - UCL\\Job MIRO\\OpenTPS\\dataset_testing\\BREAST_01_003\\BH\\CT.480904.dcm\n",
      "c:\\Users\\romai\\OneDrive - UCL\\Job MIRO\\OpenTPS\\dataset_testing\\BREAST_01_003\n",
      "c:\\Users\\romai\\OneDrive - UCL\\Job MIRO\\OpenTPS\\dataset_testing\\BREAST_01_003\\BH\\CT.494205.dcm\n",
      "c:\\Users\\romai\\OneDrive - UCL\\Job MIRO\\OpenTPS\\dataset_testing\\BREAST_01_003\n",
      "c:\\Users\\romai\\OneDrive - UCL\\Job MIRO\\OpenTPS\\dataset_testing\\BREAST_01_003\\BH\\CT.495700.dcm\n",
      "c:\\Users\\romai\\OneDrive - UCL\\Job MIRO\\OpenTPS\\dataset_testing\\BREAST_01_003\n",
      "c:\\Users\\romai\\OneDrive - UCL\\Job MIRO\\OpenTPS\\dataset_testing\\BREAST_01_003\\BH\\CT.515260.dcm\n",
      "c:\\Users\\romai\\OneDrive - UCL\\Job MIRO\\OpenTPS\\dataset_testing\\BREAST_01_003\n",
      "c:\\Users\\romai\\OneDrive - UCL\\Job MIRO\\OpenTPS\\dataset_testing\\BREAST_01_003\\BH\\CT.560193.dcm\n",
      "c:\\Users\\romai\\OneDrive - UCL\\Job MIRO\\OpenTPS\\dataset_testing\\BREAST_01_003\n",
      "c:\\Users\\romai\\OneDrive - UCL\\Job MIRO\\OpenTPS\\dataset_testing\\BREAST_01_003\\BH\\CT.571243.dcm\n",
      "c:\\Users\\romai\\OneDrive - UCL\\Job MIRO\\OpenTPS\\dataset_testing\\BREAST_01_003\n",
      "c:\\Users\\romai\\OneDrive - UCL\\Job MIRO\\OpenTPS\\dataset_testing\\BREAST_01_003\\BH\\CT.581111.dcm\n",
      "c:\\Users\\romai\\OneDrive - UCL\\Job MIRO\\OpenTPS\\dataset_testing\\BREAST_01_003\n",
      "c:\\Users\\romai\\OneDrive - UCL\\Job MIRO\\OpenTPS\\dataset_testing\\BREAST_01_003\\BH\\CT.588503.dcm\n",
      "c:\\Users\\romai\\OneDrive - UCL\\Job MIRO\\OpenTPS\\dataset_testing\\BREAST_01_003\n",
      "c:\\Users\\romai\\OneDrive - UCL\\Job MIRO\\OpenTPS\\dataset_testing\\BREAST_01_003\\BH\\CT.605234.dcm\n",
      "c:\\Users\\romai\\OneDrive - UCL\\Job MIRO\\OpenTPS\\dataset_testing\\BREAST_01_003\n",
      "c:\\Users\\romai\\OneDrive - UCL\\Job MIRO\\OpenTPS\\dataset_testing\\BREAST_01_003\\BH\\CT.622248.dcm\n",
      "c:\\Users\\romai\\OneDrive - UCL\\Job MIRO\\OpenTPS\\dataset_testing\\BREAST_01_003\n",
      "c:\\Users\\romai\\OneDrive - UCL\\Job MIRO\\OpenTPS\\dataset_testing\\BREAST_01_003\\BH\\CT.644185.dcm\n",
      "c:\\Users\\romai\\OneDrive - UCL\\Job MIRO\\OpenTPS\\dataset_testing\\BREAST_01_003\n",
      "c:\\Users\\romai\\OneDrive - UCL\\Job MIRO\\OpenTPS\\dataset_testing\\BREAST_01_003\\BH\\CT.647258.dcm\n",
      "c:\\Users\\romai\\OneDrive - UCL\\Job MIRO\\OpenTPS\\dataset_testing\\BREAST_01_003\n",
      "c:\\Users\\romai\\OneDrive - UCL\\Job MIRO\\OpenTPS\\dataset_testing\\BREAST_01_003\\BH\\CT.665892.dcm\n",
      "c:\\Users\\romai\\OneDrive - UCL\\Job MIRO\\OpenTPS\\dataset_testing\\BREAST_01_003\n",
      "c:\\Users\\romai\\OneDrive - UCL\\Job MIRO\\OpenTPS\\dataset_testing\\BREAST_01_003\\BH\\CT.668664.dcm\n",
      "c:\\Users\\romai\\OneDrive - UCL\\Job MIRO\\OpenTPS\\dataset_testing\\BREAST_01_003\n",
      "c:\\Users\\romai\\OneDrive - UCL\\Job MIRO\\OpenTPS\\dataset_testing\\BREAST_01_003\\BH\\CT.691871.dcm\n",
      "c:\\Users\\romai\\OneDrive - UCL\\Job MIRO\\OpenTPS\\dataset_testing\\BREAST_01_003\n",
      "c:\\Users\\romai\\OneDrive - UCL\\Job MIRO\\OpenTPS\\dataset_testing\\BREAST_01_003\\BH\\CT.704643.dcm\n",
      "c:\\Users\\romai\\OneDrive - UCL\\Job MIRO\\OpenTPS\\dataset_testing\\BREAST_01_003\n",
      "c:\\Users\\romai\\OneDrive - UCL\\Job MIRO\\OpenTPS\\dataset_testing\\BREAST_01_003\\BH\\CT.718619.dcm\n",
      "c:\\Users\\romai\\OneDrive - UCL\\Job MIRO\\OpenTPS\\dataset_testing\\BREAST_01_003\n",
      "c:\\Users\\romai\\OneDrive - UCL\\Job MIRO\\OpenTPS\\dataset_testing\\BREAST_01_003\\BH\\CT.726082.dcm\n",
      "c:\\Users\\romai\\OneDrive - UCL\\Job MIRO\\OpenTPS\\dataset_testing\\BREAST_01_003\n",
      "c:\\Users\\romai\\OneDrive - UCL\\Job MIRO\\OpenTPS\\dataset_testing\\BREAST_01_003\\BH\\CT.732525.dcm\n",
      "c:\\Users\\romai\\OneDrive - UCL\\Job MIRO\\OpenTPS\\dataset_testing\\BREAST_01_003\n",
      "c:\\Users\\romai\\OneDrive - UCL\\Job MIRO\\OpenTPS\\dataset_testing\\BREAST_01_003\\BH\\CT.739195.dcm\n",
      "c:\\Users\\romai\\OneDrive - UCL\\Job MIRO\\OpenTPS\\dataset_testing\\BREAST_01_003\n",
      "c:\\Users\\romai\\OneDrive - UCL\\Job MIRO\\OpenTPS\\dataset_testing\\BREAST_01_003\\BH\\CT.745430.dcm\n",
      "c:\\Users\\romai\\OneDrive - UCL\\Job MIRO\\OpenTPS\\dataset_testing\\BREAST_01_003\n",
      "c:\\Users\\romai\\OneDrive - UCL\\Job MIRO\\OpenTPS\\dataset_testing\\BREAST_01_003\\BH\\CT.747865.dcm\n",
      "c:\\Users\\romai\\OneDrive - UCL\\Job MIRO\\OpenTPS\\dataset_testing\\BREAST_01_003\n",
      "c:\\Users\\romai\\OneDrive - UCL\\Job MIRO\\OpenTPS\\dataset_testing\\BREAST_01_003\\BH\\CT.748887.dcm\n",
      "c:\\Users\\romai\\OneDrive - UCL\\Job MIRO\\OpenTPS\\dataset_testing\\BREAST_01_003\n",
      "c:\\Users\\romai\\OneDrive - UCL\\Job MIRO\\OpenTPS\\dataset_testing\\BREAST_01_003\\BH\\CT.790506.dcm\n",
      "c:\\Users\\romai\\OneDrive - UCL\\Job MIRO\\OpenTPS\\dataset_testing\\BREAST_01_003\n",
      "c:\\Users\\romai\\OneDrive - UCL\\Job MIRO\\OpenTPS\\dataset_testing\\BREAST_01_003\\BH\\CT.803293.dcm\n",
      "c:\\Users\\romai\\OneDrive - UCL\\Job MIRO\\OpenTPS\\dataset_testing\\BREAST_01_003\n",
      "c:\\Users\\romai\\OneDrive - UCL\\Job MIRO\\OpenTPS\\dataset_testing\\BREAST_01_003\\BH\\CT.804142.dcm\n",
      "c:\\Users\\romai\\OneDrive - UCL\\Job MIRO\\OpenTPS\\dataset_testing\\BREAST_01_003\n",
      "c:\\Users\\romai\\OneDrive - UCL\\Job MIRO\\OpenTPS\\dataset_testing\\BREAST_01_003\\BH\\CT.805136.dcm\n",
      "c:\\Users\\romai\\OneDrive - UCL\\Job MIRO\\OpenTPS\\dataset_testing\\BREAST_01_003\n",
      "c:\\Users\\romai\\OneDrive - UCL\\Job MIRO\\OpenTPS\\dataset_testing\\BREAST_01_003\\BH\\CT.808220.dcm\n",
      "c:\\Users\\romai\\OneDrive - UCL\\Job MIRO\\OpenTPS\\dataset_testing\\BREAST_01_003\n",
      "c:\\Users\\romai\\OneDrive - UCL\\Job MIRO\\OpenTPS\\dataset_testing\\BREAST_01_003\\BH\\CT.813404.dcm\n",
      "c:\\Users\\romai\\OneDrive - UCL\\Job MIRO\\OpenTPS\\dataset_testing\\BREAST_01_003\n",
      "c:\\Users\\romai\\OneDrive - UCL\\Job MIRO\\OpenTPS\\dataset_testing\\BREAST_01_003\\BH\\CT.827675.dcm\n",
      "c:\\Users\\romai\\OneDrive - UCL\\Job MIRO\\OpenTPS\\dataset_testing\\BREAST_01_003\n",
      "c:\\Users\\romai\\OneDrive - UCL\\Job MIRO\\OpenTPS\\dataset_testing\\BREAST_01_003\\BH\\CT.833458.dcm\n",
      "c:\\Users\\romai\\OneDrive - UCL\\Job MIRO\\OpenTPS\\dataset_testing\\BREAST_01_003\n",
      "c:\\Users\\romai\\OneDrive - UCL\\Job MIRO\\OpenTPS\\dataset_testing\\BREAST_01_003\\BH\\CT.855155.dcm\n",
      "c:\\Users\\romai\\OneDrive - UCL\\Job MIRO\\OpenTPS\\dataset_testing\\BREAST_01_003\n",
      "c:\\Users\\romai\\OneDrive - UCL\\Job MIRO\\OpenTPS\\dataset_testing\\BREAST_01_003\\BH\\CT.860346.dcm\n",
      "c:\\Users\\romai\\OneDrive - UCL\\Job MIRO\\OpenTPS\\dataset_testing\\BREAST_01_003\n",
      "c:\\Users\\romai\\OneDrive - UCL\\Job MIRO\\OpenTPS\\dataset_testing\\BREAST_01_003\\BH\\CT.892881.dcm\n",
      "c:\\Users\\romai\\OneDrive - UCL\\Job MIRO\\OpenTPS\\dataset_testing\\BREAST_01_003\n",
      "c:\\Users\\romai\\OneDrive - UCL\\Job MIRO\\OpenTPS\\dataset_testing\\BREAST_01_003\\BH\\CT.919410.dcm\n",
      "c:\\Users\\romai\\OneDrive - UCL\\Job MIRO\\OpenTPS\\dataset_testing\\BREAST_01_003\n",
      "c:\\Users\\romai\\OneDrive - UCL\\Job MIRO\\OpenTPS\\dataset_testing\\BREAST_01_003\\BH\\CT.922872.dcm\n",
      "c:\\Users\\romai\\OneDrive - UCL\\Job MIRO\\OpenTPS\\dataset_testing\\BREAST_01_003\n",
      "c:\\Users\\romai\\OneDrive - UCL\\Job MIRO\\OpenTPS\\dataset_testing\\BREAST_01_003\\BH\\CT.928400.dcm\n",
      "c:\\Users\\romai\\OneDrive - UCL\\Job MIRO\\OpenTPS\\dataset_testing\\BREAST_01_003\n",
      "c:\\Users\\romai\\OneDrive - UCL\\Job MIRO\\OpenTPS\\dataset_testing\\BREAST_01_003\\BH\\CT.939100.dcm\n",
      "c:\\Users\\romai\\OneDrive - UCL\\Job MIRO\\OpenTPS\\dataset_testing\\BREAST_01_003\n",
      "c:\\Users\\romai\\OneDrive - UCL\\Job MIRO\\OpenTPS\\dataset_testing\\BREAST_01_003\\BH\\CT.942622.dcm\n",
      "c:\\Users\\romai\\OneDrive - UCL\\Job MIRO\\OpenTPS\\dataset_testing\\BREAST_01_003\n"
     ]
    },
    {
     "name": "stderr",
     "output_type": "stream",
     "text": [
      "--- Logging error ---\n",
      "Traceback (most recent call last):\n",
      "  File \"c:\\Users\\romai\\anaconda3\\envs\\OpenTPS\\lib\\logging\\__init__.py\", line 1083, in emit\n",
      "    msg = self.format(record)\n",
      "  File \"c:\\Users\\romai\\anaconda3\\envs\\OpenTPS\\lib\\logging\\__init__.py\", line 927, in format\n",
      "    return fmt.format(record)\n",
      "  File \"c:\\Users\\romai\\anaconda3\\envs\\OpenTPS\\lib\\logging\\__init__.py\", line 663, in format\n",
      "    record.message = record.getMessage()\n",
      "  File \"c:\\Users\\romai\\anaconda3\\envs\\OpenTPS\\lib\\logging\\__init__.py\", line 367, in getMessage\n",
      "    msg = msg % self.args\n",
      "TypeError: not all arguments converted during string formatting\n",
      "Call stack:\n",
      "  File \"c:\\Users\\romai\\anaconda3\\envs\\OpenTPS\\lib\\runpy.py\", line 197, in _run_module_as_main\n",
      "    return _run_code(code, main_globals, None,\n",
      "  File \"c:\\Users\\romai\\anaconda3\\envs\\OpenTPS\\lib\\runpy.py\", line 87, in _run_code\n",
      "    exec(code, run_globals)\n",
      "  File \"c:\\Users\\romai\\anaconda3\\envs\\OpenTPS\\lib\\site-packages\\ipykernel_launcher.py\", line 17, in <module>\n",
      "    app.launch_new_instance()\n",
      "  File \"c:\\Users\\romai\\anaconda3\\envs\\OpenTPS\\lib\\site-packages\\traitlets\\config\\application.py\", line 1043, in launch_instance\n",
      "    app.start()\n",
      "  File \"c:\\Users\\romai\\anaconda3\\envs\\OpenTPS\\lib\\site-packages\\ipykernel\\kernelapp.py\", line 712, in start\n",
      "    self.io_loop.start()\n",
      "  File \"c:\\Users\\romai\\anaconda3\\envs\\OpenTPS\\lib\\site-packages\\tornado\\platform\\asyncio.py\", line 215, in start\n",
      "    self.asyncio_loop.run_forever()\n",
      "  File \"c:\\Users\\romai\\anaconda3\\envs\\OpenTPS\\lib\\asyncio\\base_events.py\", line 601, in run_forever\n",
      "    self._run_once()\n",
      "  File \"c:\\Users\\romai\\anaconda3\\envs\\OpenTPS\\lib\\asyncio\\base_events.py\", line 1905, in _run_once\n",
      "    handle._run()\n",
      "  File \"c:\\Users\\romai\\anaconda3\\envs\\OpenTPS\\lib\\asyncio\\events.py\", line 80, in _run\n",
      "    self._context.run(self._callback, *self._args)\n",
      "  File \"c:\\Users\\romai\\anaconda3\\envs\\OpenTPS\\lib\\site-packages\\ipykernel\\kernelbase.py\", line 510, in dispatch_queue\n",
      "    await self.process_one()\n",
      "  File \"c:\\Users\\romai\\anaconda3\\envs\\OpenTPS\\lib\\site-packages\\ipykernel\\kernelbase.py\", line 499, in process_one\n",
      "    await dispatch(*args)\n",
      "  File \"c:\\Users\\romai\\anaconda3\\envs\\OpenTPS\\lib\\site-packages\\ipykernel\\kernelbase.py\", line 406, in dispatch_shell\n",
      "    await result\n",
      "  File \"c:\\Users\\romai\\anaconda3\\envs\\OpenTPS\\lib\\site-packages\\ipykernel\\kernelbase.py\", line 730, in execute_request\n",
      "    reply_content = await reply_content\n",
      "  File \"c:\\Users\\romai\\anaconda3\\envs\\OpenTPS\\lib\\site-packages\\ipykernel\\ipkernel.py\", line 383, in do_execute\n",
      "    res = shell.run_cell(\n",
      "  File \"c:\\Users\\romai\\anaconda3\\envs\\OpenTPS\\lib\\site-packages\\ipykernel\\zmqshell.py\", line 528, in run_cell\n",
      "    return super().run_cell(*args, **kwargs)\n",
      "  File \"c:\\Users\\romai\\anaconda3\\envs\\OpenTPS\\lib\\site-packages\\IPython\\core\\interactiveshell.py\", line 3009, in run_cell\n",
      "    result = self._run_cell(\n",
      "  File \"c:\\Users\\romai\\anaconda3\\envs\\OpenTPS\\lib\\site-packages\\IPython\\core\\interactiveshell.py\", line 3064, in _run_cell\n",
      "    result = runner(coro)\n",
      "  File \"c:\\Users\\romai\\anaconda3\\envs\\OpenTPS\\lib\\site-packages\\IPython\\core\\async_helpers.py\", line 129, in _pseudo_sync_runner\n",
      "    coro.send(None)\n",
      "  File \"c:\\Users\\romai\\anaconda3\\envs\\OpenTPS\\lib\\site-packages\\IPython\\core\\interactiveshell.py\", line 3269, in run_cell_async\n",
      "    has_raised = await self.run_ast_nodes(code_ast.body, cell_name,\n",
      "  File \"c:\\Users\\romai\\anaconda3\\envs\\OpenTPS\\lib\\site-packages\\IPython\\core\\interactiveshell.py\", line 3448, in run_ast_nodes\n",
      "    if await self.run_code(code, result, async_=asy):\n",
      "  File \"c:\\Users\\romai\\anaconda3\\envs\\OpenTPS\\lib\\site-packages\\IPython\\core\\interactiveshell.py\", line 3508, in run_code\n",
      "    exec(code_obj, self.user_global_ns, self.user_ns)\n",
      "  File \"C:\\Users\\romai\\AppData\\Local\\Temp\\ipykernel_9772\\3858525246.py\", line 6, in <module>\n",
      "    dataList = readData(ctImagePath, maxDepth=0)\n",
      "  File \"C:\\Users\\romai\\OneDrive - UCL\\Job MIRO\\OpenTPS\\opentps\\opentps_core\\opentps\\core\\io\\dataLoader.py\", line 148, in readData\n",
      "    logging.warning(\"WARNING: cannot import \", filePath, \" because photon RT plan is not implemented yet\")\n",
      "Message: 'WARNING: cannot import '\n",
      "Arguments: ('c:\\\\Users\\\\romai\\\\OneDrive - UCL\\\\Job MIRO\\\\OpenTPS\\\\dataset_testing\\\\BREAST_01_003\\\\BH\\\\RTPLAN.237435.dcm', ' because photon RT plan is not implemented yet')\n"
     ]
    }
   ],
   "source": [
    "doseCalculator = MCsquareDoseCalculator()\n",
    "doseCalculator.ctCalibration = readScanner(DoseCalculationConfig().scannerFolder)\n",
    "doseCalculator.beamModel = mcsquareIO.readBDL(DoseCalculationConfig().bdlFile)\n",
    "doseCalculator.nbPrimaries = 1e7\n",
    "ctImagePath = r'c:\\Users\\romai\\OneDrive - UCL\\Job MIRO\\OpenTPS\\dataset_testing\\BREAST_01_003\\BH'\n",
    "dataList = readData(ctImagePath, maxDepth=0)\n",
    "ct = [d for d in dataList if isinstance(d, CTImage)][0]\n",
    "struct = [d for d in dataList if isinstance(d, RTStruct)][0]"
   ]
  },
  {
   "cell_type": "markdown",
   "metadata": {},
   "source": [
    "If we want to crop the CT to the body contour (set everything else to -1024)"
   ]
  },
  {
   "cell_type": "code",
<<<<<<< HEAD
   "execution_count": 11,
=======
   "execution_count": 5,
>>>>>>> 688dedc8425a07051e355b5798ec0de1b3c90e7e
   "metadata": {},
   "outputs": [],
   "source": [
    "contour_name = 'patient'\n",
    "body_contour = struct.getContourByName(contour_name)\n",
    "doseCalculator.overwriteOutsideROI = body_contour"
   ]
  },
  {
   "cell_type": "markdown",
   "metadata": {},
   "source": [
    "MC square simulation and Dose exportation"
   ]
  },
  {
   "cell_type": "code",
<<<<<<< HEAD
   "execution_count": 12,
=======
   "execution_count": 6,
>>>>>>> 688dedc8425a07051e355b5798ec0de1b3c90e7e
   "metadata": {},
   "outputs": [
    {
     "name": "stdout",
     "output_type": "stream",
     "text": [
<<<<<<< HEAD
      "24/07/2023 12:11:29 PM - opentps.core.processing.doseCalculation.mcsquareDoseCalculator - INFO - Prepare MCsquare Dose calculation\n",
      "24/07/2023 12:11:29 PM - opentps.core.io.mcsquareIO - INFO - Cropping CT around patient\n",
      "24/07/2023 12:11:30 PM - opentps.core.io.mhdIO - INFO - Write MHD file: C:\\Users\\romai\\openTPS_workspace\\Simulations\\MCsquare_simulation\\CT.mhd\n",
      "24/07/2023 12:11:31 PM - opentps.core.io.mcsquareIO - INFO - Write plan: C:\\Users\\romai\\openTPS_workspace\\Simulations\\MCsquare_simulation\\PlanPencil.txt\n",
      "24/07/2023 12:11:32 PM - opentps.core.processing.doseCalculation.mcsquareDoseCalculator - INFO - Start MCsquare simulation\n",
      "24/07/2023 12:32:17 PM - opentps.core.io.mhdIO - INFO - Write MHD file: c:\\Users\\romai\\OneDrive - UCL\\Job MIRO\\OpenTPS\\doseCal.mhd\n"
=======
      "24/07/2023 12:09:18 PM - opentps.core.processing.doseCalculation.mcsquareDoseCalculator - INFO - Prepare MCsquare Dose calculation\n",
      "24/07/2023 12:09:18 PM - opentps.core.io.mcsquareIO - INFO - Cropping CT around patient\n",
      "24/07/2023 12:09:19 PM - opentps.core.io.mhdIO - INFO - Write MHD file: C:\\Users\\romai\\openTPS_workspace\\Simulations\\MCsquare_simulation\\CT.mhd\n"
     ]
    },
    {
     "ename": "AttributeError",
     "evalue": "'NoneType' object has no attribute 'scanMode'",
     "output_type": "error",
     "traceback": [
      "\u001b[1;31m---------------------------------------------------------------------------\u001b[0m",
      "\u001b[1;31mAttributeError\u001b[0m                            Traceback (most recent call last)",
      "Cell \u001b[1;32mIn[6], line 1\u001b[0m\n\u001b[1;32m----> 1\u001b[0m doseImage \u001b[39m=\u001b[39m doseCalculator\u001b[39m.\u001b[39;49mcomputeDose(ct, plan3)\n\u001b[0;32m      2\u001b[0m exportImageMHD(\u001b[39mr\u001b[39m\u001b[39m'\u001b[39m\u001b[39mc:\u001b[39m\u001b[39m\\\u001b[39m\u001b[39mUsers\u001b[39m\u001b[39m\\\u001b[39m\u001b[39mromai\u001b[39m\u001b[39m\\\u001b[39m\u001b[39mOneDrive - UCL\u001b[39m\u001b[39m\\\u001b[39m\u001b[39mJob MIRO\u001b[39m\u001b[39m\\\u001b[39m\u001b[39mOpenTPS\u001b[39m\u001b[39m\\\u001b[39m\u001b[39mdoseCal\u001b[39m\u001b[39m'\u001b[39m, doseImage)\n",
      "File \u001b[1;32m~\\OneDrive - UCL\\Job MIRO\\OpenTPS\\opentps\\opentps_core\\opentps\\core\\processing\\doseCalculation\\mcsquareDoseCalculator.py:168\u001b[0m, in \u001b[0;36mMCsquareDoseCalculator.computeDose\u001b[1;34m(self, ct, plan, roi)\u001b[0m\n\u001b[0;32m    165\u001b[0m \u001b[39mself\u001b[39m\u001b[39m.\u001b[39m_roi \u001b[39m=\u001b[39m roi\n\u001b[0;32m    166\u001b[0m \u001b[39mself\u001b[39m\u001b[39m.\u001b[39m_config \u001b[39m=\u001b[39m \u001b[39mself\u001b[39m\u001b[39m.\u001b[39m_doseComputationConfig\n\u001b[1;32m--> 168\u001b[0m \u001b[39mself\u001b[39;49m\u001b[39m.\u001b[39;49m_writeFilesToSimuDir()\n\u001b[0;32m    169\u001b[0m \u001b[39mself\u001b[39m\u001b[39m.\u001b[39m_cleanDir(\u001b[39mself\u001b[39m\u001b[39m.\u001b[39m_workDir)\n\u001b[0;32m    170\u001b[0m \u001b[39mself\u001b[39m\u001b[39m.\u001b[39m_startMCsquare()\n",
      "File \u001b[1;32m~\\OneDrive - UCL\\Job MIRO\\OpenTPS\\opentps\\opentps_core\\opentps\\core\\processing\\doseCalculation\\mcsquareDoseCalculator.py:329\u001b[0m, in \u001b[0;36mMCsquareDoseCalculator._writeFilesToSimuDir\u001b[1;34m(self)\u001b[0m\n\u001b[0;32m    326\u001b[0m \u001b[39mself\u001b[39m\u001b[39m.\u001b[39m_cleanDir(\u001b[39mself\u001b[39m\u001b[39m.\u001b[39m_scannerFolder)\n\u001b[0;32m    328\u001b[0m mcsquareIO\u001b[39m.\u001b[39mwriteCT(\u001b[39mself\u001b[39m\u001b[39m.\u001b[39m_ct, \u001b[39mself\u001b[39m\u001b[39m.\u001b[39m_ctFilePath, \u001b[39mself\u001b[39m\u001b[39m.\u001b[39moverwriteOutsideROI)\n\u001b[1;32m--> 329\u001b[0m mcsquareIO\u001b[39m.\u001b[39;49mwritePlan(\u001b[39mself\u001b[39;49m\u001b[39m.\u001b[39;49m_plan, \u001b[39mself\u001b[39;49m\u001b[39m.\u001b[39;49m_planFilePath, \u001b[39mself\u001b[39;49m\u001b[39m.\u001b[39;49m_ct, \u001b[39mself\u001b[39;49m\u001b[39m.\u001b[39;49m_beamModel)\n\u001b[0;32m    330\u001b[0m mcsquareIO\u001b[39m.\u001b[39mwriteCTCalibrationAndBDL(\u001b[39mself\u001b[39m\u001b[39m.\u001b[39m_ctCalibration, \u001b[39mself\u001b[39m\u001b[39m.\u001b[39m_scannerFolder, \u001b[39mself\u001b[39m\u001b[39m.\u001b[39m_materialFolder,\n\u001b[0;32m    331\u001b[0m                                     \u001b[39mself\u001b[39m\u001b[39m.\u001b[39m_beamModel, \u001b[39mself\u001b[39m\u001b[39m.\u001b[39m_bdlFilePath)\n\u001b[0;32m    332\u001b[0m mcsquareIO\u001b[39m.\u001b[39mwriteConfig(\u001b[39mself\u001b[39m\u001b[39m.\u001b[39m_config, \u001b[39mself\u001b[39m\u001b[39m.\u001b[39m_configFilePath)\n",
      "File \u001b[1;32m~\\OneDrive - UCL\\Job MIRO\\OpenTPS\\opentps\\opentps_core\\opentps\\core\\io\\mcsquareIO.py:505\u001b[0m, in \u001b[0;36mwritePlan\u001b[1;34m(plan, file_path, CT, bdl)\u001b[0m\n\u001b[0;32m    504\u001b[0m \u001b[39mdef\u001b[39;00m \u001b[39mwritePlan\u001b[39m(plan: RTPlan, file_path, CT: CTImage, bdl: BDL):\n\u001b[1;32m--> 505\u001b[0m     \u001b[39mif\u001b[39;00m (plan\u001b[39m.\u001b[39;49mscanMode \u001b[39m!=\u001b[39m \u001b[39m\"\u001b[39m\u001b[39mMODULATED\u001b[39m\u001b[39m\"\u001b[39m):\n\u001b[0;32m    506\u001b[0m         logger\u001b[39m.\u001b[39merror(\u001b[39m\"\u001b[39m\u001b[39mError: cannot simulate this treatment modality. Please convert the plan to PBS delivery mode.\u001b[39m\u001b[39m\"\u001b[39m)\n\u001b[0;32m    507\u001b[0m         \u001b[39mreturn\u001b[39;00m\n",
      "\u001b[1;31mAttributeError\u001b[0m: 'NoneType' object has no attribute 'scanMode'"
>>>>>>> 688dedc8425a07051e355b5798ec0de1b3c90e7e
     ]
    }
   ],
   "source": [
    "doseImage = doseCalculator.computeDose(ct, plan)\n",
    "exportImageMHD(r'c:\\Users\\romai\\OneDrive - UCL\\Job MIRO\\OpenTPS\\doseCal', doseImage)"
   ]
  },
  {
   "cell_type": "markdown",
   "metadata": {},
   "source": [
    "DVH"
   ]
  },
  {
   "cell_type": "code",
<<<<<<< HEAD
   "execution_count": 13,
=======
   "execution_count": null,
>>>>>>> 688dedc8425a07051e355b5798ec0de1b3c90e7e
   "metadata": {},
   "outputs": [
    {
     "name": "stdout",
     "output_type": "stream",
     "text": [
      "D95 0.03662109375\n",
      "D5 0.03662109375\n",
<<<<<<< HEAD
      "Dmax 0.000113190516\n",
=======
      "Dmax 0.000115747134\n",
>>>>>>> 688dedc8425a07051e355b5798ec0de1b3c90e7e
      "Dmin 0.0\n"
     ]
    }
   ],
   "source": [
    "target_name = 'PTVp_Breast_L'\n",
    "target_contour = struct.getContourByName(target_name)\n",
    "dvh = DVH(target_contour, doseImage)\n",
    "print(\"D95\",dvh._D95)\n",
    "print(\"D5\",dvh._D5)\n",
    "print(\"Dmax\",dvh._Dmax)\n",
    "print(\"Dmin\",dvh._Dmin)\n"
   ]
  }
 ],
 "metadata": {
  "kernelspec": {
   "display_name": "OpenTPS",
   "language": "python",
   "name": "python3"
  },
  "language_info": {
   "codemirror_mode": {
    "name": "ipython",
    "version": 3
   },
   "file_extension": ".py",
   "mimetype": "text/x-python",
   "name": "python",
   "nbconvert_exporter": "python",
   "pygments_lexer": "ipython3",
   "version": "3.9.16"
  },
  "orig_nbformat": 4
 },
 "nbformat": 4,
 "nbformat_minor": 2
}
